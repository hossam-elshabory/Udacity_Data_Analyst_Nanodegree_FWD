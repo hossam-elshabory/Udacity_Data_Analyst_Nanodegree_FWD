{
  "cells": [
    {
      "cell_type": "markdown",
      "metadata": {
        "id": "SY2Ag5BcFNtX"
      },
      "source": [
        "# (Ford GoBike System Data)\n",
        "## by (Hossam El Shabory)\n",
        "\n",
        "## Preliminary Wrangling\n",
        "\n",
        "> Data set that includes information about individual rides made in a bike-sharing system covering the greater San Francisco Bay area."
      ]
    },
    {
      "cell_type": "code",
      "execution_count": 1,
      "metadata": {
        "id": "uvWy7chEFNtt"
      },
      "outputs": [],
      "source": [
        "# Importing modules\n",
        "import numpy as np\n",
        "import pandas as pd\n",
        "import matplotlib.pyplot as plt\n",
        "import seaborn as sns\n",
        "\n",
        "%matplotlib inline\n",
        "\n",
        "# Suppress warnings from final output\n",
        "import warnings\n",
        "warnings.simplefilter(\"ignore\")"
      ]
    },
    {
      "cell_type": "markdown",
      "metadata": {
        "id": "nRtmw73KFNt0"
      },
      "source": [
        "> Load in your dataset and describe its properties through the questions below.\n",
        "Try and motivate your exploration goals through this section."
      ]
    },
    {
      "cell_type": "code",
      "execution_count": 2,
      "metadata": {
        "colab": {
          "base_uri": "https://localhost:8080/",
          "height": 392
        },
        "id": "lng0J-KpFNt2",
        "outputId": "2a4acbf9-9fc3-4503-8c73-8e4a53f9b49a"
      },
      "outputs": [
        {
          "output_type": "execute_result",
          "data": {
            "text/plain": [
              "   duration_sec                start_time                  end_time  \\\n",
              "0         52185  2019-02-28 17:32:10.1450  2019-03-01 08:01:55.9750   \n",
              "1         42521  2019-02-28 18:53:21.7890  2019-03-01 06:42:03.0560   \n",
              "2         61854  2019-02-28 12:13:13.2180  2019-03-01 05:24:08.1460   \n",
              "3         36490  2019-02-28 17:54:26.0100  2019-03-01 04:02:36.8420   \n",
              "4          1585  2019-02-28 23:54:18.5490  2019-03-01 00:20:44.0740   \n",
              "\n",
              "   start_station_id                                start_station_name  \\\n",
              "0              21.0  Montgomery St BART Station (Market St at 2nd St)   \n",
              "1              23.0                     The Embarcadero at Steuart St   \n",
              "2              86.0                           Market St at Dolores St   \n",
              "3             375.0                           Grove St at Masonic Ave   \n",
              "4               7.0                               Frank H Ogawa Plaza   \n",
              "\n",
              "   start_station_latitude  start_station_longitude  end_station_id  \\\n",
              "0               37.789625              -122.400811            13.0   \n",
              "1               37.791464              -122.391034            81.0   \n",
              "2               37.769305              -122.426826             3.0   \n",
              "3               37.774836              -122.446546            70.0   \n",
              "4               37.804562              -122.271738           222.0   \n",
              "\n",
              "                               end_station_name  end_station_latitude  \\\n",
              "0                Commercial St at Montgomery St             37.794231   \n",
              "1                            Berry St at 4th St             37.775880   \n",
              "2  Powell St BART Station (Market St at 4th St)             37.786375   \n",
              "3                        Central Ave at Fell St             37.773311   \n",
              "4                         10th Ave at E 15th St             37.792714   \n",
              "\n",
              "   end_station_longitude  bike_id   user_type  member_birth_year  \\\n",
              "0            -122.402923     4902    Customer             1984.0   \n",
              "1            -122.393170     2535    Customer                NaN   \n",
              "2            -122.404904     5905    Customer             1972.0   \n",
              "3            -122.444293     6638  Subscriber             1989.0   \n",
              "4            -122.248780     4898  Subscriber             1974.0   \n",
              "\n",
              "  member_gender bike_share_for_all_trip  \n",
              "0          Male                      No  \n",
              "1           NaN                      No  \n",
              "2          Male                      No  \n",
              "3         Other                      No  \n",
              "4          Male                     Yes  "
            ],
            "text/html": [
              "\n",
              "  <div id=\"df-a7a6854c-cd39-4f1b-af7e-2477c0db4cee\">\n",
              "    <div class=\"colab-df-container\">\n",
              "      <div>\n",
              "<style scoped>\n",
              "    .dataframe tbody tr th:only-of-type {\n",
              "        vertical-align: middle;\n",
              "    }\n",
              "\n",
              "    .dataframe tbody tr th {\n",
              "        vertical-align: top;\n",
              "    }\n",
              "\n",
              "    .dataframe thead th {\n",
              "        text-align: right;\n",
              "    }\n",
              "</style>\n",
              "<table border=\"1\" class=\"dataframe\">\n",
              "  <thead>\n",
              "    <tr style=\"text-align: right;\">\n",
              "      <th></th>\n",
              "      <th>duration_sec</th>\n",
              "      <th>start_time</th>\n",
              "      <th>end_time</th>\n",
              "      <th>start_station_id</th>\n",
              "      <th>start_station_name</th>\n",
              "      <th>start_station_latitude</th>\n",
              "      <th>start_station_longitude</th>\n",
              "      <th>end_station_id</th>\n",
              "      <th>end_station_name</th>\n",
              "      <th>end_station_latitude</th>\n",
              "      <th>end_station_longitude</th>\n",
              "      <th>bike_id</th>\n",
              "      <th>user_type</th>\n",
              "      <th>member_birth_year</th>\n",
              "      <th>member_gender</th>\n",
              "      <th>bike_share_for_all_trip</th>\n",
              "    </tr>\n",
              "  </thead>\n",
              "  <tbody>\n",
              "    <tr>\n",
              "      <th>0</th>\n",
              "      <td>52185</td>\n",
              "      <td>2019-02-28 17:32:10.1450</td>\n",
              "      <td>2019-03-01 08:01:55.9750</td>\n",
              "      <td>21.0</td>\n",
              "      <td>Montgomery St BART Station (Market St at 2nd St)</td>\n",
              "      <td>37.789625</td>\n",
              "      <td>-122.400811</td>\n",
              "      <td>13.0</td>\n",
              "      <td>Commercial St at Montgomery St</td>\n",
              "      <td>37.794231</td>\n",
              "      <td>-122.402923</td>\n",
              "      <td>4902</td>\n",
              "      <td>Customer</td>\n",
              "      <td>1984.0</td>\n",
              "      <td>Male</td>\n",
              "      <td>No</td>\n",
              "    </tr>\n",
              "    <tr>\n",
              "      <th>1</th>\n",
              "      <td>42521</td>\n",
              "      <td>2019-02-28 18:53:21.7890</td>\n",
              "      <td>2019-03-01 06:42:03.0560</td>\n",
              "      <td>23.0</td>\n",
              "      <td>The Embarcadero at Steuart St</td>\n",
              "      <td>37.791464</td>\n",
              "      <td>-122.391034</td>\n",
              "      <td>81.0</td>\n",
              "      <td>Berry St at 4th St</td>\n",
              "      <td>37.775880</td>\n",
              "      <td>-122.393170</td>\n",
              "      <td>2535</td>\n",
              "      <td>Customer</td>\n",
              "      <td>NaN</td>\n",
              "      <td>NaN</td>\n",
              "      <td>No</td>\n",
              "    </tr>\n",
              "    <tr>\n",
              "      <th>2</th>\n",
              "      <td>61854</td>\n",
              "      <td>2019-02-28 12:13:13.2180</td>\n",
              "      <td>2019-03-01 05:24:08.1460</td>\n",
              "      <td>86.0</td>\n",
              "      <td>Market St at Dolores St</td>\n",
              "      <td>37.769305</td>\n",
              "      <td>-122.426826</td>\n",
              "      <td>3.0</td>\n",
              "      <td>Powell St BART Station (Market St at 4th St)</td>\n",
              "      <td>37.786375</td>\n",
              "      <td>-122.404904</td>\n",
              "      <td>5905</td>\n",
              "      <td>Customer</td>\n",
              "      <td>1972.0</td>\n",
              "      <td>Male</td>\n",
              "      <td>No</td>\n",
              "    </tr>\n",
              "    <tr>\n",
              "      <th>3</th>\n",
              "      <td>36490</td>\n",
              "      <td>2019-02-28 17:54:26.0100</td>\n",
              "      <td>2019-03-01 04:02:36.8420</td>\n",
              "      <td>375.0</td>\n",
              "      <td>Grove St at Masonic Ave</td>\n",
              "      <td>37.774836</td>\n",
              "      <td>-122.446546</td>\n",
              "      <td>70.0</td>\n",
              "      <td>Central Ave at Fell St</td>\n",
              "      <td>37.773311</td>\n",
              "      <td>-122.444293</td>\n",
              "      <td>6638</td>\n",
              "      <td>Subscriber</td>\n",
              "      <td>1989.0</td>\n",
              "      <td>Other</td>\n",
              "      <td>No</td>\n",
              "    </tr>\n",
              "    <tr>\n",
              "      <th>4</th>\n",
              "      <td>1585</td>\n",
              "      <td>2019-02-28 23:54:18.5490</td>\n",
              "      <td>2019-03-01 00:20:44.0740</td>\n",
              "      <td>7.0</td>\n",
              "      <td>Frank H Ogawa Plaza</td>\n",
              "      <td>37.804562</td>\n",
              "      <td>-122.271738</td>\n",
              "      <td>222.0</td>\n",
              "      <td>10th Ave at E 15th St</td>\n",
              "      <td>37.792714</td>\n",
              "      <td>-122.248780</td>\n",
              "      <td>4898</td>\n",
              "      <td>Subscriber</td>\n",
              "      <td>1974.0</td>\n",
              "      <td>Male</td>\n",
              "      <td>Yes</td>\n",
              "    </tr>\n",
              "  </tbody>\n",
              "</table>\n",
              "</div>\n",
              "      <button class=\"colab-df-convert\" onclick=\"convertToInteractive('df-a7a6854c-cd39-4f1b-af7e-2477c0db4cee')\"\n",
              "              title=\"Convert this dataframe to an interactive table.\"\n",
              "              style=\"display:none;\">\n",
              "        \n",
              "  <svg xmlns=\"http://www.w3.org/2000/svg\" height=\"24px\"viewBox=\"0 0 24 24\"\n",
              "       width=\"24px\">\n",
              "    <path d=\"M0 0h24v24H0V0z\" fill=\"none\"/>\n",
              "    <path d=\"M18.56 5.44l.94 2.06.94-2.06 2.06-.94-2.06-.94-.94-2.06-.94 2.06-2.06.94zm-11 1L8.5 8.5l.94-2.06 2.06-.94-2.06-.94L8.5 2.5l-.94 2.06-2.06.94zm10 10l.94 2.06.94-2.06 2.06-.94-2.06-.94-.94-2.06-.94 2.06-2.06.94z\"/><path d=\"M17.41 7.96l-1.37-1.37c-.4-.4-.92-.59-1.43-.59-.52 0-1.04.2-1.43.59L10.3 9.45l-7.72 7.72c-.78.78-.78 2.05 0 2.83L4 21.41c.39.39.9.59 1.41.59.51 0 1.02-.2 1.41-.59l7.78-7.78 2.81-2.81c.8-.78.8-2.07 0-2.86zM5.41 20L4 18.59l7.72-7.72 1.47 1.35L5.41 20z\"/>\n",
              "  </svg>\n",
              "      </button>\n",
              "      \n",
              "  <style>\n",
              "    .colab-df-container {\n",
              "      display:flex;\n",
              "      flex-wrap:wrap;\n",
              "      gap: 12px;\n",
              "    }\n",
              "\n",
              "    .colab-df-convert {\n",
              "      background-color: #E8F0FE;\n",
              "      border: none;\n",
              "      border-radius: 50%;\n",
              "      cursor: pointer;\n",
              "      display: none;\n",
              "      fill: #1967D2;\n",
              "      height: 32px;\n",
              "      padding: 0 0 0 0;\n",
              "      width: 32px;\n",
              "    }\n",
              "\n",
              "    .colab-df-convert:hover {\n",
              "      background-color: #E2EBFA;\n",
              "      box-shadow: 0px 1px 2px rgba(60, 64, 67, 0.3), 0px 1px 3px 1px rgba(60, 64, 67, 0.15);\n",
              "      fill: #174EA6;\n",
              "    }\n",
              "\n",
              "    [theme=dark] .colab-df-convert {\n",
              "      background-color: #3B4455;\n",
              "      fill: #D2E3FC;\n",
              "    }\n",
              "\n",
              "    [theme=dark] .colab-df-convert:hover {\n",
              "      background-color: #434B5C;\n",
              "      box-shadow: 0px 1px 3px 1px rgba(0, 0, 0, 0.15);\n",
              "      filter: drop-shadow(0px 1px 2px rgba(0, 0, 0, 0.3));\n",
              "      fill: #FFFFFF;\n",
              "    }\n",
              "  </style>\n",
              "\n",
              "      <script>\n",
              "        const buttonEl =\n",
              "          document.querySelector('#df-a7a6854c-cd39-4f1b-af7e-2477c0db4cee button.colab-df-convert');\n",
              "        buttonEl.style.display =\n",
              "          google.colab.kernel.accessAllowed ? 'block' : 'none';\n",
              "\n",
              "        async function convertToInteractive(key) {\n",
              "          const element = document.querySelector('#df-a7a6854c-cd39-4f1b-af7e-2477c0db4cee');\n",
              "          const dataTable =\n",
              "            await google.colab.kernel.invokeFunction('convertToInteractive',\n",
              "                                                     [key], {});\n",
              "          if (!dataTable) return;\n",
              "\n",
              "          const docLinkHtml = 'Like what you see? Visit the ' +\n",
              "            '<a target=\"_blank\" href=https://colab.research.google.com/notebooks/data_table.ipynb>data table notebook</a>'\n",
              "            + ' to learn more about interactive tables.';\n",
              "          element.innerHTML = '';\n",
              "          dataTable['output_type'] = 'display_data';\n",
              "          await google.colab.output.renderOutput(dataTable, element);\n",
              "          const docLink = document.createElement('div');\n",
              "          docLink.innerHTML = docLinkHtml;\n",
              "          element.appendChild(docLink);\n",
              "        }\n",
              "      </script>\n",
              "    </div>\n",
              "  </div>\n",
              "  "
            ]
          },
          "metadata": {},
          "execution_count": 2
        }
      ],
      "source": [
        "# Reading the csv data file\n",
        "df = pd.read_csv(\"https://raw.githubusercontent.com/Gloryzco/Ford-GoBike-Data-Exploration-and-Visualization/master/201902-fordgobike-tripdata.csv\")\n",
        "# Showing the dateset head\n",
        "df.head()"
      ]
    },
    {
      "cell_type": "code",
      "execution_count": 3,
      "metadata": {
        "colab": {
          "base_uri": "https://localhost:8080/"
        },
        "id": "tMnoMQ-3FNuC",
        "outputId": "ea674eaa-017d-41d0-990e-49d931338f31"
      },
      "outputs": [
        {
          "output_type": "execute_result",
          "data": {
            "text/plain": [
              "(183412, 16)"
            ]
          },
          "metadata": {},
          "execution_count": 3
        }
      ],
      "source": [
        "df.shape"
      ]
    },
    {
      "cell_type": "code",
      "execution_count": 4,
      "metadata": {
        "colab": {
          "base_uri": "https://localhost:8080/"
        },
        "id": "0kIDLpbCFNuE",
        "outputId": "f11129b0-3b85-4c8a-eef2-2922e7466b95"
      },
      "outputs": [
        {
          "output_type": "stream",
          "name": "stdout",
          "text": [
            "<class 'pandas.core.frame.DataFrame'>\n",
            "RangeIndex: 183412 entries, 0 to 183411\n",
            "Data columns (total 16 columns):\n",
            " #   Column                   Non-Null Count   Dtype  \n",
            "---  ------                   --------------   -----  \n",
            " 0   duration_sec             183412 non-null  int64  \n",
            " 1   start_time               183412 non-null  object \n",
            " 2   end_time                 183412 non-null  object \n",
            " 3   start_station_id         183215 non-null  float64\n",
            " 4   start_station_name       183215 non-null  object \n",
            " 5   start_station_latitude   183412 non-null  float64\n",
            " 6   start_station_longitude  183412 non-null  float64\n",
            " 7   end_station_id           183215 non-null  float64\n",
            " 8   end_station_name         183215 non-null  object \n",
            " 9   end_station_latitude     183412 non-null  float64\n",
            " 10  end_station_longitude    183412 non-null  float64\n",
            " 11  bike_id                  183412 non-null  int64  \n",
            " 12  user_type                183412 non-null  object \n",
            " 13  member_birth_year        175147 non-null  float64\n",
            " 14  member_gender            175147 non-null  object \n",
            " 15  bike_share_for_all_trip  183412 non-null  object \n",
            "dtypes: float64(7), int64(2), object(7)\n",
            "memory usage: 22.4+ MB\n"
          ]
        }
      ],
      "source": [
        "df.info()"
      ]
    },
    {
      "cell_type": "markdown",
      "metadata": {
        "id": "COH7pjb6FNuF"
      },
      "source": [
        "### Cleaning The data:"
      ]
    },
    {
      "cell_type": "code",
      "execution_count": 5,
      "metadata": {
        "colab": {
          "base_uri": "https://localhost:8080/"
        },
        "id": "H_y106WHFNuH",
        "outputId": "fbd46700-be6a-4645-d89d-818d457bc5e7"
      },
      "outputs": [
        {
          "output_type": "execute_result",
          "data": {
            "text/plain": [
              "member_birth_year     8265\n",
              "member_gender         8265\n",
              "start_station_id       197\n",
              "start_station_name     197\n",
              "end_station_id         197\n",
              "end_station_name       197\n",
              "dtype: int64"
            ]
          },
          "metadata": {},
          "execution_count": 5
        }
      ],
      "source": [
        "# Checking for null values\n",
        "null_count = df.isnull().sum()\n",
        "\n",
        "# Filtering out column was NO null values\n",
        "no_null_cond = null_count != 0\n",
        "\n",
        "# Printing out NULL values columns\n",
        "null_count[no_null_cond].sort_values(ascending = False)"
      ]
    },
    {
      "cell_type": "code",
      "execution_count": 6,
      "metadata": {
        "colab": {
          "base_uri": "https://localhost:8080/"
        },
        "id": "0_amXzN2FNuI",
        "outputId": "c4607af9-4f29-4a9a-f1eb-396f8cb06ca4"
      },
      "outputs": [
        {
          "output_type": "stream",
          "name": "stdout",
          "text": [
            "Successfully Removed all ROWS with Null Values.\n"
          ]
        }
      ],
      "source": [
        "# Removing ROWS with missing values\n",
        "df.dropna(axis= 0, inplace = True)\n",
        "\n",
        "# Checking for Null values removal\n",
        "if 0 not in df.isnull().sum():\n",
        "  print(\"Successfully Removed all ROWS with Null Values.\") \n",
        "else:\n",
        "  print(\"Something went wrong!\")"
      ]
    },
    {
      "cell_type": "code",
      "execution_count": 7,
      "metadata": {
        "id": "Y144Tg-7FNuM"
      },
      "outputs": [],
      "source": [
        "# Transforming start time column into a date time object and extracting hours / days / months / years from it\n",
        "\n",
        "# Converting to day time object\n",
        "df[\"start_time\"] = pd.to_datetime(df[\"start_time\"])\n",
        "\n",
        "# Extracting hours\n",
        "df[\"start_hour\"]= df[\"start_time\"].dt.hour\n",
        "\n",
        "# Extracting days\n",
        "df[\"Start_day\"] = df[\"start_time\"].dt.strftime(\"%a\")\n",
        "\n",
        "# Extracting years\n",
        "df[\"start_year\"]  = df.start_time.dt.year\n",
        "\n",
        "# Extracting Months\n",
        "df[\"start_month\"] = df.start_time.dt.month_name()"
      ]
    },
    {
      "cell_type": "code",
      "source": [
        "# Displaying newly created columns\n",
        "df[[\"start_hour\", \"start_year\", \"start_month\"]].head()"
      ],
      "metadata": {
        "colab": {
          "base_uri": "https://localhost:8080/",
          "height": 206
        },
        "id": "hTTM8xIoKmOd",
        "outputId": "8b08d9b7-bb08-4041-ab00-8656c29d0a35"
      },
      "execution_count": 8,
      "outputs": [
        {
          "output_type": "execute_result",
          "data": {
            "text/plain": [
              "   start_hour  start_year start_month\n",
              "0          17        2019    February\n",
              "2          12        2019    February\n",
              "3          17        2019    February\n",
              "4          23        2019    February\n",
              "5          23        2019    February"
            ],
            "text/html": [
              "\n",
              "  <div id=\"df-3178c956-438f-43fa-beb0-3c6549db8204\">\n",
              "    <div class=\"colab-df-container\">\n",
              "      <div>\n",
              "<style scoped>\n",
              "    .dataframe tbody tr th:only-of-type {\n",
              "        vertical-align: middle;\n",
              "    }\n",
              "\n",
              "    .dataframe tbody tr th {\n",
              "        vertical-align: top;\n",
              "    }\n",
              "\n",
              "    .dataframe thead th {\n",
              "        text-align: right;\n",
              "    }\n",
              "</style>\n",
              "<table border=\"1\" class=\"dataframe\">\n",
              "  <thead>\n",
              "    <tr style=\"text-align: right;\">\n",
              "      <th></th>\n",
              "      <th>start_hour</th>\n",
              "      <th>start_year</th>\n",
              "      <th>start_month</th>\n",
              "    </tr>\n",
              "  </thead>\n",
              "  <tbody>\n",
              "    <tr>\n",
              "      <th>0</th>\n",
              "      <td>17</td>\n",
              "      <td>2019</td>\n",
              "      <td>February</td>\n",
              "    </tr>\n",
              "    <tr>\n",
              "      <th>2</th>\n",
              "      <td>12</td>\n",
              "      <td>2019</td>\n",
              "      <td>February</td>\n",
              "    </tr>\n",
              "    <tr>\n",
              "      <th>3</th>\n",
              "      <td>17</td>\n",
              "      <td>2019</td>\n",
              "      <td>February</td>\n",
              "    </tr>\n",
              "    <tr>\n",
              "      <th>4</th>\n",
              "      <td>23</td>\n",
              "      <td>2019</td>\n",
              "      <td>February</td>\n",
              "    </tr>\n",
              "    <tr>\n",
              "      <th>5</th>\n",
              "      <td>23</td>\n",
              "      <td>2019</td>\n",
              "      <td>February</td>\n",
              "    </tr>\n",
              "  </tbody>\n",
              "</table>\n",
              "</div>\n",
              "      <button class=\"colab-df-convert\" onclick=\"convertToInteractive('df-3178c956-438f-43fa-beb0-3c6549db8204')\"\n",
              "              title=\"Convert this dataframe to an interactive table.\"\n",
              "              style=\"display:none;\">\n",
              "        \n",
              "  <svg xmlns=\"http://www.w3.org/2000/svg\" height=\"24px\"viewBox=\"0 0 24 24\"\n",
              "       width=\"24px\">\n",
              "    <path d=\"M0 0h24v24H0V0z\" fill=\"none\"/>\n",
              "    <path d=\"M18.56 5.44l.94 2.06.94-2.06 2.06-.94-2.06-.94-.94-2.06-.94 2.06-2.06.94zm-11 1L8.5 8.5l.94-2.06 2.06-.94-2.06-.94L8.5 2.5l-.94 2.06-2.06.94zm10 10l.94 2.06.94-2.06 2.06-.94-2.06-.94-.94-2.06-.94 2.06-2.06.94z\"/><path d=\"M17.41 7.96l-1.37-1.37c-.4-.4-.92-.59-1.43-.59-.52 0-1.04.2-1.43.59L10.3 9.45l-7.72 7.72c-.78.78-.78 2.05 0 2.83L4 21.41c.39.39.9.59 1.41.59.51 0 1.02-.2 1.41-.59l7.78-7.78 2.81-2.81c.8-.78.8-2.07 0-2.86zM5.41 20L4 18.59l7.72-7.72 1.47 1.35L5.41 20z\"/>\n",
              "  </svg>\n",
              "      </button>\n",
              "      \n",
              "  <style>\n",
              "    .colab-df-container {\n",
              "      display:flex;\n",
              "      flex-wrap:wrap;\n",
              "      gap: 12px;\n",
              "    }\n",
              "\n",
              "    .colab-df-convert {\n",
              "      background-color: #E8F0FE;\n",
              "      border: none;\n",
              "      border-radius: 50%;\n",
              "      cursor: pointer;\n",
              "      display: none;\n",
              "      fill: #1967D2;\n",
              "      height: 32px;\n",
              "      padding: 0 0 0 0;\n",
              "      width: 32px;\n",
              "    }\n",
              "\n",
              "    .colab-df-convert:hover {\n",
              "      background-color: #E2EBFA;\n",
              "      box-shadow: 0px 1px 2px rgba(60, 64, 67, 0.3), 0px 1px 3px 1px rgba(60, 64, 67, 0.15);\n",
              "      fill: #174EA6;\n",
              "    }\n",
              "\n",
              "    [theme=dark] .colab-df-convert {\n",
              "      background-color: #3B4455;\n",
              "      fill: #D2E3FC;\n",
              "    }\n",
              "\n",
              "    [theme=dark] .colab-df-convert:hover {\n",
              "      background-color: #434B5C;\n",
              "      box-shadow: 0px 1px 3px 1px rgba(0, 0, 0, 0.15);\n",
              "      filter: drop-shadow(0px 1px 2px rgba(0, 0, 0, 0.3));\n",
              "      fill: #FFFFFF;\n",
              "    }\n",
              "  </style>\n",
              "\n",
              "      <script>\n",
              "        const buttonEl =\n",
              "          document.querySelector('#df-3178c956-438f-43fa-beb0-3c6549db8204 button.colab-df-convert');\n",
              "        buttonEl.style.display =\n",
              "          google.colab.kernel.accessAllowed ? 'block' : 'none';\n",
              "\n",
              "        async function convertToInteractive(key) {\n",
              "          const element = document.querySelector('#df-3178c956-438f-43fa-beb0-3c6549db8204');\n",
              "          const dataTable =\n",
              "            await google.colab.kernel.invokeFunction('convertToInteractive',\n",
              "                                                     [key], {});\n",
              "          if (!dataTable) return;\n",
              "\n",
              "          const docLinkHtml = 'Like what you see? Visit the ' +\n",
              "            '<a target=\"_blank\" href=https://colab.research.google.com/notebooks/data_table.ipynb>data table notebook</a>'\n",
              "            + ' to learn more about interactive tables.';\n",
              "          element.innerHTML = '';\n",
              "          dataTable['output_type'] = 'display_data';\n",
              "          await google.colab.output.renderOutput(dataTable, element);\n",
              "          const docLink = document.createElement('div');\n",
              "          docLink.innerHTML = docLinkHtml;\n",
              "          element.appendChild(docLink);\n",
              "        }\n",
              "      </script>\n",
              "    </div>\n",
              "  </div>\n",
              "  "
            ]
          },
          "metadata": {},
          "execution_count": 8
        }
      ]
    },
    {
      "cell_type": "code",
      "execution_count": 9,
      "metadata": {
        "id": "hp_Tlzj-FNuO"
      },
      "outputs": [],
      "source": [
        "# Extracting 'duration hours' from the 'duration_sec' columns by dividing the 'duration_sec' column by 120\n",
        "df[\"duration_hrs\"] = df[\"duration_sec\"] / 120"
      ]
    },
    {
      "cell_type": "code",
      "source": [
        "# Displaying newly created 'duration_hrs' column\n",
        "df[[\"duration_hrs\", \"duration_sec\"]].head(2)"
      ],
      "metadata": {
        "colab": {
          "base_uri": "https://localhost:8080/",
          "height": 112
        },
        "id": "Tf0Vw2tLLTjK",
        "outputId": "dace448d-39d2-4c59-eae7-d6912693af02"
      },
      "execution_count": 10,
      "outputs": [
        {
          "output_type": "execute_result",
          "data": {
            "text/plain": [
              "   duration_hrs  duration_sec\n",
              "0       434.875         52185\n",
              "2       515.450         61854"
            ],
            "text/html": [
              "\n",
              "  <div id=\"df-09abb58c-b5e5-484b-9050-57698990dab6\">\n",
              "    <div class=\"colab-df-container\">\n",
              "      <div>\n",
              "<style scoped>\n",
              "    .dataframe tbody tr th:only-of-type {\n",
              "        vertical-align: middle;\n",
              "    }\n",
              "\n",
              "    .dataframe tbody tr th {\n",
              "        vertical-align: top;\n",
              "    }\n",
              "\n",
              "    .dataframe thead th {\n",
              "        text-align: right;\n",
              "    }\n",
              "</style>\n",
              "<table border=\"1\" class=\"dataframe\">\n",
              "  <thead>\n",
              "    <tr style=\"text-align: right;\">\n",
              "      <th></th>\n",
              "      <th>duration_hrs</th>\n",
              "      <th>duration_sec</th>\n",
              "    </tr>\n",
              "  </thead>\n",
              "  <tbody>\n",
              "    <tr>\n",
              "      <th>0</th>\n",
              "      <td>434.875</td>\n",
              "      <td>52185</td>\n",
              "    </tr>\n",
              "    <tr>\n",
              "      <th>2</th>\n",
              "      <td>515.450</td>\n",
              "      <td>61854</td>\n",
              "    </tr>\n",
              "  </tbody>\n",
              "</table>\n",
              "</div>\n",
              "      <button class=\"colab-df-convert\" onclick=\"convertToInteractive('df-09abb58c-b5e5-484b-9050-57698990dab6')\"\n",
              "              title=\"Convert this dataframe to an interactive table.\"\n",
              "              style=\"display:none;\">\n",
              "        \n",
              "  <svg xmlns=\"http://www.w3.org/2000/svg\" height=\"24px\"viewBox=\"0 0 24 24\"\n",
              "       width=\"24px\">\n",
              "    <path d=\"M0 0h24v24H0V0z\" fill=\"none\"/>\n",
              "    <path d=\"M18.56 5.44l.94 2.06.94-2.06 2.06-.94-2.06-.94-.94-2.06-.94 2.06-2.06.94zm-11 1L8.5 8.5l.94-2.06 2.06-.94-2.06-.94L8.5 2.5l-.94 2.06-2.06.94zm10 10l.94 2.06.94-2.06 2.06-.94-2.06-.94-.94-2.06-.94 2.06-2.06.94z\"/><path d=\"M17.41 7.96l-1.37-1.37c-.4-.4-.92-.59-1.43-.59-.52 0-1.04.2-1.43.59L10.3 9.45l-7.72 7.72c-.78.78-.78 2.05 0 2.83L4 21.41c.39.39.9.59 1.41.59.51 0 1.02-.2 1.41-.59l7.78-7.78 2.81-2.81c.8-.78.8-2.07 0-2.86zM5.41 20L4 18.59l7.72-7.72 1.47 1.35L5.41 20z\"/>\n",
              "  </svg>\n",
              "      </button>\n",
              "      \n",
              "  <style>\n",
              "    .colab-df-container {\n",
              "      display:flex;\n",
              "      flex-wrap:wrap;\n",
              "      gap: 12px;\n",
              "    }\n",
              "\n",
              "    .colab-df-convert {\n",
              "      background-color: #E8F0FE;\n",
              "      border: none;\n",
              "      border-radius: 50%;\n",
              "      cursor: pointer;\n",
              "      display: none;\n",
              "      fill: #1967D2;\n",
              "      height: 32px;\n",
              "      padding: 0 0 0 0;\n",
              "      width: 32px;\n",
              "    }\n",
              "\n",
              "    .colab-df-convert:hover {\n",
              "      background-color: #E2EBFA;\n",
              "      box-shadow: 0px 1px 2px rgba(60, 64, 67, 0.3), 0px 1px 3px 1px rgba(60, 64, 67, 0.15);\n",
              "      fill: #174EA6;\n",
              "    }\n",
              "\n",
              "    [theme=dark] .colab-df-convert {\n",
              "      background-color: #3B4455;\n",
              "      fill: #D2E3FC;\n",
              "    }\n",
              "\n",
              "    [theme=dark] .colab-df-convert:hover {\n",
              "      background-color: #434B5C;\n",
              "      box-shadow: 0px 1px 3px 1px rgba(0, 0, 0, 0.15);\n",
              "      filter: drop-shadow(0px 1px 2px rgba(0, 0, 0, 0.3));\n",
              "      fill: #FFFFFF;\n",
              "    }\n",
              "  </style>\n",
              "\n",
              "      <script>\n",
              "        const buttonEl =\n",
              "          document.querySelector('#df-09abb58c-b5e5-484b-9050-57698990dab6 button.colab-df-convert');\n",
              "        buttonEl.style.display =\n",
              "          google.colab.kernel.accessAllowed ? 'block' : 'none';\n",
              "\n",
              "        async function convertToInteractive(key) {\n",
              "          const element = document.querySelector('#df-09abb58c-b5e5-484b-9050-57698990dab6');\n",
              "          const dataTable =\n",
              "            await google.colab.kernel.invokeFunction('convertToInteractive',\n",
              "                                                     [key], {});\n",
              "          if (!dataTable) return;\n",
              "\n",
              "          const docLinkHtml = 'Like what you see? Visit the ' +\n",
              "            '<a target=\"_blank\" href=https://colab.research.google.com/notebooks/data_table.ipynb>data table notebook</a>'\n",
              "            + ' to learn more about interactive tables.';\n",
              "          element.innerHTML = '';\n",
              "          dataTable['output_type'] = 'display_data';\n",
              "          await google.colab.output.renderOutput(dataTable, element);\n",
              "          const docLink = document.createElement('div');\n",
              "          docLink.innerHTML = docLinkHtml;\n",
              "          element.appendChild(docLink);\n",
              "        }\n",
              "      </script>\n",
              "    </div>\n",
              "  </div>\n",
              "  "
            ]
          },
          "metadata": {},
          "execution_count": 10
        }
      ]
    },
    {
      "cell_type": "code",
      "execution_count": 11,
      "metadata": {
        "colab": {
          "base_uri": "https://localhost:8080/"
        },
        "id": "4buceZuyFNuP",
        "outputId": "3e8822df-15c3-48b1-86ee-57e24d959727"
      },
      "outputs": [
        {
          "output_type": "execute_result",
          "data": {
            "text/plain": [
              "Male      130500\n",
              "Female     40805\n",
              "Name: member_gender, dtype: int64"
            ]
          },
          "metadata": {},
          "execution_count": 11
        }
      ],
      "source": [
        "# Removing the Other gender as it's inconvenient and there are only 2 genders.\n",
        "\n",
        "# Getting the 'Other' \n",
        "other_indexes = df.index[df[\"member_gender\"] == \"Other\"]\n",
        "\n",
        "# Droppin the Rows\n",
        "df.drop(other_indexes, inplace = True)\n",
        "\n",
        "# Checking the 'member_gender' column value counts \n",
        "df[\"member_gender\"].value_counts()"
      ]
    },
    {
      "cell_type": "code",
      "execution_count": 12,
      "metadata": {
        "id": "_3jhqtf4FNuT"
      },
      "outputs": [],
      "source": [
        "# Calculating the age of members\n",
        "\n",
        "# Converting the 'member_birth_year' column into numpy int64 to perform a substraction on it's values:\n",
        "df[\"member_birth_year\"] = df[\"member_birth_year\"].astype(np.int64)\n",
        "\n",
        "# Calculating the age (subtracting the 2019 from the 'member_birth_year' because the 2019 is the dataset date.)\n",
        "df[\"member_age\"] = 2019 - df[\"member_birth_year\"]"
      ]
    },
    {
      "cell_type": "code",
      "source": [
        "# Displaying the newly created 'member_age' column\n",
        "df[[\"member_age\"]].head()"
      ],
      "metadata": {
        "colab": {
          "base_uri": "https://localhost:8080/",
          "height": 206
        },
        "id": "fd7u2-zLNSru",
        "outputId": "b33b6047-7635-4f2a-dc15-d859bb713bc8"
      },
      "execution_count": 13,
      "outputs": [
        {
          "output_type": "execute_result",
          "data": {
            "text/plain": [
              "   member_age\n",
              "0          35\n",
              "2          47\n",
              "4          45\n",
              "5          60\n",
              "6          36"
            ],
            "text/html": [
              "\n",
              "  <div id=\"df-08794965-707d-4a37-a1fb-da44dc532ce3\">\n",
              "    <div class=\"colab-df-container\">\n",
              "      <div>\n",
              "<style scoped>\n",
              "    .dataframe tbody tr th:only-of-type {\n",
              "        vertical-align: middle;\n",
              "    }\n",
              "\n",
              "    .dataframe tbody tr th {\n",
              "        vertical-align: top;\n",
              "    }\n",
              "\n",
              "    .dataframe thead th {\n",
              "        text-align: right;\n",
              "    }\n",
              "</style>\n",
              "<table border=\"1\" class=\"dataframe\">\n",
              "  <thead>\n",
              "    <tr style=\"text-align: right;\">\n",
              "      <th></th>\n",
              "      <th>member_age</th>\n",
              "    </tr>\n",
              "  </thead>\n",
              "  <tbody>\n",
              "    <tr>\n",
              "      <th>0</th>\n",
              "      <td>35</td>\n",
              "    </tr>\n",
              "    <tr>\n",
              "      <th>2</th>\n",
              "      <td>47</td>\n",
              "    </tr>\n",
              "    <tr>\n",
              "      <th>4</th>\n",
              "      <td>45</td>\n",
              "    </tr>\n",
              "    <tr>\n",
              "      <th>5</th>\n",
              "      <td>60</td>\n",
              "    </tr>\n",
              "    <tr>\n",
              "      <th>6</th>\n",
              "      <td>36</td>\n",
              "    </tr>\n",
              "  </tbody>\n",
              "</table>\n",
              "</div>\n",
              "      <button class=\"colab-df-convert\" onclick=\"convertToInteractive('df-08794965-707d-4a37-a1fb-da44dc532ce3')\"\n",
              "              title=\"Convert this dataframe to an interactive table.\"\n",
              "              style=\"display:none;\">\n",
              "        \n",
              "  <svg xmlns=\"http://www.w3.org/2000/svg\" height=\"24px\"viewBox=\"0 0 24 24\"\n",
              "       width=\"24px\">\n",
              "    <path d=\"M0 0h24v24H0V0z\" fill=\"none\"/>\n",
              "    <path d=\"M18.56 5.44l.94 2.06.94-2.06 2.06-.94-2.06-.94-.94-2.06-.94 2.06-2.06.94zm-11 1L8.5 8.5l.94-2.06 2.06-.94-2.06-.94L8.5 2.5l-.94 2.06-2.06.94zm10 10l.94 2.06.94-2.06 2.06-.94-2.06-.94-.94-2.06-.94 2.06-2.06.94z\"/><path d=\"M17.41 7.96l-1.37-1.37c-.4-.4-.92-.59-1.43-.59-.52 0-1.04.2-1.43.59L10.3 9.45l-7.72 7.72c-.78.78-.78 2.05 0 2.83L4 21.41c.39.39.9.59 1.41.59.51 0 1.02-.2 1.41-.59l7.78-7.78 2.81-2.81c.8-.78.8-2.07 0-2.86zM5.41 20L4 18.59l7.72-7.72 1.47 1.35L5.41 20z\"/>\n",
              "  </svg>\n",
              "      </button>\n",
              "      \n",
              "  <style>\n",
              "    .colab-df-container {\n",
              "      display:flex;\n",
              "      flex-wrap:wrap;\n",
              "      gap: 12px;\n",
              "    }\n",
              "\n",
              "    .colab-df-convert {\n",
              "      background-color: #E8F0FE;\n",
              "      border: none;\n",
              "      border-radius: 50%;\n",
              "      cursor: pointer;\n",
              "      display: none;\n",
              "      fill: #1967D2;\n",
              "      height: 32px;\n",
              "      padding: 0 0 0 0;\n",
              "      width: 32px;\n",
              "    }\n",
              "\n",
              "    .colab-df-convert:hover {\n",
              "      background-color: #E2EBFA;\n",
              "      box-shadow: 0px 1px 2px rgba(60, 64, 67, 0.3), 0px 1px 3px 1px rgba(60, 64, 67, 0.15);\n",
              "      fill: #174EA6;\n",
              "    }\n",
              "\n",
              "    [theme=dark] .colab-df-convert {\n",
              "      background-color: #3B4455;\n",
              "      fill: #D2E3FC;\n",
              "    }\n",
              "\n",
              "    [theme=dark] .colab-df-convert:hover {\n",
              "      background-color: #434B5C;\n",
              "      box-shadow: 0px 1px 3px 1px rgba(0, 0, 0, 0.15);\n",
              "      filter: drop-shadow(0px 1px 2px rgba(0, 0, 0, 0.3));\n",
              "      fill: #FFFFFF;\n",
              "    }\n",
              "  </style>\n",
              "\n",
              "      <script>\n",
              "        const buttonEl =\n",
              "          document.querySelector('#df-08794965-707d-4a37-a1fb-da44dc532ce3 button.colab-df-convert');\n",
              "        buttonEl.style.display =\n",
              "          google.colab.kernel.accessAllowed ? 'block' : 'none';\n",
              "\n",
              "        async function convertToInteractive(key) {\n",
              "          const element = document.querySelector('#df-08794965-707d-4a37-a1fb-da44dc532ce3');\n",
              "          const dataTable =\n",
              "            await google.colab.kernel.invokeFunction('convertToInteractive',\n",
              "                                                     [key], {});\n",
              "          if (!dataTable) return;\n",
              "\n",
              "          const docLinkHtml = 'Like what you see? Visit the ' +\n",
              "            '<a target=\"_blank\" href=https://colab.research.google.com/notebooks/data_table.ipynb>data table notebook</a>'\n",
              "            + ' to learn more about interactive tables.';\n",
              "          element.innerHTML = '';\n",
              "          dataTable['output_type'] = 'display_data';\n",
              "          await google.colab.output.renderOutput(dataTable, element);\n",
              "          const docLink = document.createElement('div');\n",
              "          docLink.innerHTML = docLinkHtml;\n",
              "          element.appendChild(docLink);\n",
              "        }\n",
              "      </script>\n",
              "    </div>\n",
              "  </div>\n",
              "  "
            ]
          },
          "metadata": {},
          "execution_count": 13
        }
      ]
    },
    {
      "cell_type": "code",
      "execution_count": 14,
      "metadata": {
        "colab": {
          "base_uri": "https://localhost:8080/"
        },
        "id": "PN_mbYxtFNuV",
        "outputId": "2dc59f39-de0c-47ae-f955-d50d65fc6a74"
      },
      "outputs": [
        {
          "output_type": "execute_result",
          "data": {
            "text/plain": [
              "count    171305.000000\n",
              "mean         34.160649\n",
              "std          10.116083\n",
              "min          18.000000\n",
              "25%          27.000000\n",
              "50%          32.000000\n",
              "75%          39.000000\n",
              "max         141.000000\n",
              "Name: member_age, dtype: float64"
            ]
          },
          "metadata": {},
          "execution_count": 14
        }
      ],
      "source": [
        "# Taking alook at the new age column:\n",
        "df[\"member_age\"].describe()"
      ]
    },
    {
      "cell_type": "code",
      "execution_count": 15,
      "metadata": {
        "id": "jAUdUXCmFNuY"
      },
      "outputs": [],
      "source": [
        "# Max age is 141 which is inconvenient; so will only keep ages below 50: \n",
        "\n",
        "# Importing DataFrame from pandas for type hinting\n",
        "from pandas import DataFrame\n",
        "\n",
        "def rmv_below(df: DataFrame, value: int, column: str) -> None:\n",
        "  \"\"\"This function removes rows in the dataframe with values below the provided one in the column.\n",
        "  \n",
        "  Parameters\n",
        "  ----------\n",
        "  df : DataFrame\n",
        "    _description_ : The dataframe containing the dataset.\n",
        "\n",
        "  value : int\n",
        "    _description_ : The value to remove any value below it.\n",
        "\n",
        "  column : str\n",
        "    _description_ : The column name in the provided dataframe.\n",
        "  \"\"\"\n",
        "\n",
        "  # Extracting the rows with values below the provided one indexes\n",
        "  rows_indexes = df[ df[column] > value].index\n",
        "\n",
        "  # Dropping values above the provided value\n",
        "  df.drop(rows_indexes, inplace = True)\n",
        "  \n",
        "# Calling the function on the 'member_age' column with the max values of 50.\n",
        "rmv_below(df, 50, \"member_age\")"
      ]
    },
    {
      "cell_type": "code",
      "execution_count": 16,
      "metadata": {
        "colab": {
          "base_uri": "https://localhost:8080/"
        },
        "id": "1QkDkAo3FNuZ",
        "outputId": "1ebba972-c451-4808-fe19-e82a4ccda1e5"
      },
      "outputs": [
        {
          "output_type": "execute_result",
          "data": {
            "text/plain": [
              "count    156924.000000\n",
              "mean         32.006322\n",
              "std           7.173623\n",
              "min          18.000000\n",
              "25%          26.000000\n",
              "50%          31.000000\n",
              "75%          36.000000\n",
              "max          50.000000\n",
              "Name: member_age, dtype: float64"
            ]
          },
          "metadata": {},
          "execution_count": 16
        }
      ],
      "source": [
        "# Checking:\n",
        "df[\"member_age\"].describe()"
      ]
    },
    {
      "cell_type": "code",
      "execution_count": 17,
      "metadata": {
        "colab": {
          "base_uri": "https://localhost:8080/",
          "height": 206
        },
        "id": "mXwa4gyIFNua",
        "outputId": "30669d4b-09c8-43b7-d1be-5c55be55f194"
      },
      "outputs": [
        {
          "output_type": "execute_result",
          "data": {
            "text/plain": [
              "   bike_id   user_type member_gender  member_age  duration_sec  duration_hrs  \\\n",
              "0     4902    Customer          Male          35         52185    434.875000   \n",
              "2     5905    Customer          Male          47         61854    515.450000   \n",
              "4     4898  Subscriber          Male          45          1585     13.208333   \n",
              "6     3803  Subscriber        Female          36          1147      9.558333   \n",
              "7     6329  Subscriber          Male          30          1615     13.458333   \n",
              "\n",
              "               start_time  start_hour Start_day start_month  start_year  \n",
              "0 2019-02-28 17:32:10.145          17       Thu    February        2019  \n",
              "2 2019-02-28 12:13:13.218          12       Thu    February        2019  \n",
              "4 2019-02-28 23:54:18.549          23       Thu    February        2019  \n",
              "6 2019-02-28 23:55:35.104          23       Thu    February        2019  \n",
              "7 2019-02-28 23:41:06.766          23       Thu    February        2019  "
            ],
            "text/html": [
              "\n",
              "  <div id=\"df-8120206c-8dd1-4c39-9985-1e5a348a466d\">\n",
              "    <div class=\"colab-df-container\">\n",
              "      <div>\n",
              "<style scoped>\n",
              "    .dataframe tbody tr th:only-of-type {\n",
              "        vertical-align: middle;\n",
              "    }\n",
              "\n",
              "    .dataframe tbody tr th {\n",
              "        vertical-align: top;\n",
              "    }\n",
              "\n",
              "    .dataframe thead th {\n",
              "        text-align: right;\n",
              "    }\n",
              "</style>\n",
              "<table border=\"1\" class=\"dataframe\">\n",
              "  <thead>\n",
              "    <tr style=\"text-align: right;\">\n",
              "      <th></th>\n",
              "      <th>bike_id</th>\n",
              "      <th>user_type</th>\n",
              "      <th>member_gender</th>\n",
              "      <th>member_age</th>\n",
              "      <th>duration_sec</th>\n",
              "      <th>duration_hrs</th>\n",
              "      <th>start_time</th>\n",
              "      <th>start_hour</th>\n",
              "      <th>Start_day</th>\n",
              "      <th>start_month</th>\n",
              "      <th>start_year</th>\n",
              "    </tr>\n",
              "  </thead>\n",
              "  <tbody>\n",
              "    <tr>\n",
              "      <th>0</th>\n",
              "      <td>4902</td>\n",
              "      <td>Customer</td>\n",
              "      <td>Male</td>\n",
              "      <td>35</td>\n",
              "      <td>52185</td>\n",
              "      <td>434.875000</td>\n",
              "      <td>2019-02-28 17:32:10.145</td>\n",
              "      <td>17</td>\n",
              "      <td>Thu</td>\n",
              "      <td>February</td>\n",
              "      <td>2019</td>\n",
              "    </tr>\n",
              "    <tr>\n",
              "      <th>2</th>\n",
              "      <td>5905</td>\n",
              "      <td>Customer</td>\n",
              "      <td>Male</td>\n",
              "      <td>47</td>\n",
              "      <td>61854</td>\n",
              "      <td>515.450000</td>\n",
              "      <td>2019-02-28 12:13:13.218</td>\n",
              "      <td>12</td>\n",
              "      <td>Thu</td>\n",
              "      <td>February</td>\n",
              "      <td>2019</td>\n",
              "    </tr>\n",
              "    <tr>\n",
              "      <th>4</th>\n",
              "      <td>4898</td>\n",
              "      <td>Subscriber</td>\n",
              "      <td>Male</td>\n",
              "      <td>45</td>\n",
              "      <td>1585</td>\n",
              "      <td>13.208333</td>\n",
              "      <td>2019-02-28 23:54:18.549</td>\n",
              "      <td>23</td>\n",
              "      <td>Thu</td>\n",
              "      <td>February</td>\n",
              "      <td>2019</td>\n",
              "    </tr>\n",
              "    <tr>\n",
              "      <th>6</th>\n",
              "      <td>3803</td>\n",
              "      <td>Subscriber</td>\n",
              "      <td>Female</td>\n",
              "      <td>36</td>\n",
              "      <td>1147</td>\n",
              "      <td>9.558333</td>\n",
              "      <td>2019-02-28 23:55:35.104</td>\n",
              "      <td>23</td>\n",
              "      <td>Thu</td>\n",
              "      <td>February</td>\n",
              "      <td>2019</td>\n",
              "    </tr>\n",
              "    <tr>\n",
              "      <th>7</th>\n",
              "      <td>6329</td>\n",
              "      <td>Subscriber</td>\n",
              "      <td>Male</td>\n",
              "      <td>30</td>\n",
              "      <td>1615</td>\n",
              "      <td>13.458333</td>\n",
              "      <td>2019-02-28 23:41:06.766</td>\n",
              "      <td>23</td>\n",
              "      <td>Thu</td>\n",
              "      <td>February</td>\n",
              "      <td>2019</td>\n",
              "    </tr>\n",
              "  </tbody>\n",
              "</table>\n",
              "</div>\n",
              "      <button class=\"colab-df-convert\" onclick=\"convertToInteractive('df-8120206c-8dd1-4c39-9985-1e5a348a466d')\"\n",
              "              title=\"Convert this dataframe to an interactive table.\"\n",
              "              style=\"display:none;\">\n",
              "        \n",
              "  <svg xmlns=\"http://www.w3.org/2000/svg\" height=\"24px\"viewBox=\"0 0 24 24\"\n",
              "       width=\"24px\">\n",
              "    <path d=\"M0 0h24v24H0V0z\" fill=\"none\"/>\n",
              "    <path d=\"M18.56 5.44l.94 2.06.94-2.06 2.06-.94-2.06-.94-.94-2.06-.94 2.06-2.06.94zm-11 1L8.5 8.5l.94-2.06 2.06-.94-2.06-.94L8.5 2.5l-.94 2.06-2.06.94zm10 10l.94 2.06.94-2.06 2.06-.94-2.06-.94-.94-2.06-.94 2.06-2.06.94z\"/><path d=\"M17.41 7.96l-1.37-1.37c-.4-.4-.92-.59-1.43-.59-.52 0-1.04.2-1.43.59L10.3 9.45l-7.72 7.72c-.78.78-.78 2.05 0 2.83L4 21.41c.39.39.9.59 1.41.59.51 0 1.02-.2 1.41-.59l7.78-7.78 2.81-2.81c.8-.78.8-2.07 0-2.86zM5.41 20L4 18.59l7.72-7.72 1.47 1.35L5.41 20z\"/>\n",
              "  </svg>\n",
              "      </button>\n",
              "      \n",
              "  <style>\n",
              "    .colab-df-container {\n",
              "      display:flex;\n",
              "      flex-wrap:wrap;\n",
              "      gap: 12px;\n",
              "    }\n",
              "\n",
              "    .colab-df-convert {\n",
              "      background-color: #E8F0FE;\n",
              "      border: none;\n",
              "      border-radius: 50%;\n",
              "      cursor: pointer;\n",
              "      display: none;\n",
              "      fill: #1967D2;\n",
              "      height: 32px;\n",
              "      padding: 0 0 0 0;\n",
              "      width: 32px;\n",
              "    }\n",
              "\n",
              "    .colab-df-convert:hover {\n",
              "      background-color: #E2EBFA;\n",
              "      box-shadow: 0px 1px 2px rgba(60, 64, 67, 0.3), 0px 1px 3px 1px rgba(60, 64, 67, 0.15);\n",
              "      fill: #174EA6;\n",
              "    }\n",
              "\n",
              "    [theme=dark] .colab-df-convert {\n",
              "      background-color: #3B4455;\n",
              "      fill: #D2E3FC;\n",
              "    }\n",
              "\n",
              "    [theme=dark] .colab-df-convert:hover {\n",
              "      background-color: #434B5C;\n",
              "      box-shadow: 0px 1px 3px 1px rgba(0, 0, 0, 0.15);\n",
              "      filter: drop-shadow(0px 1px 2px rgba(0, 0, 0, 0.3));\n",
              "      fill: #FFFFFF;\n",
              "    }\n",
              "  </style>\n",
              "\n",
              "      <script>\n",
              "        const buttonEl =\n",
              "          document.querySelector('#df-8120206c-8dd1-4c39-9985-1e5a348a466d button.colab-df-convert');\n",
              "        buttonEl.style.display =\n",
              "          google.colab.kernel.accessAllowed ? 'block' : 'none';\n",
              "\n",
              "        async function convertToInteractive(key) {\n",
              "          const element = document.querySelector('#df-8120206c-8dd1-4c39-9985-1e5a348a466d');\n",
              "          const dataTable =\n",
              "            await google.colab.kernel.invokeFunction('convertToInteractive',\n",
              "                                                     [key], {});\n",
              "          if (!dataTable) return;\n",
              "\n",
              "          const docLinkHtml = 'Like what you see? Visit the ' +\n",
              "            '<a target=\"_blank\" href=https://colab.research.google.com/notebooks/data_table.ipynb>data table notebook</a>'\n",
              "            + ' to learn more about interactive tables.';\n",
              "          element.innerHTML = '';\n",
              "          dataTable['output_type'] = 'display_data';\n",
              "          await google.colab.output.renderOutput(dataTable, element);\n",
              "          const docLink = document.createElement('div');\n",
              "          docLink.innerHTML = docLinkHtml;\n",
              "          element.appendChild(docLink);\n",
              "        }\n",
              "      </script>\n",
              "    </div>\n",
              "  </div>\n",
              "  "
            ]
          },
          "metadata": {},
          "execution_count": 17
        }
      ],
      "source": [
        "# Choosing the feature(s) we will be exploring:\n",
        "df_clean = df[\n",
        "    [\n",
        "    \"bike_id\", \"user_type\", \"member_gender\", \"member_age\", \n",
        "    \"duration_sec\", \"duration_hrs\", \"start_time\", \"start_hour\", \n",
        "    \"Start_day\", \"start_month\", \"start_year\"\n",
        "    ]\n",
        "]\n",
        "\n",
        "# Show the cleaned dataframe\n",
        "df_clean.head()"
      ]
    },
    {
      "cell_type": "markdown",
      "metadata": {
        "id": "zR8ynwngFNud"
      },
      "source": [
        "### What is the structure of your dataset?\n",
        "\n",
        "> 183412 Rows, 16 Columns\n",
        "\n",
        "### What is/are the main feature(s) of interest in your dataset?\n",
        "\n",
        "> who uses the services the most, and what other features has to do in relation with the duration and the type / gender of user\n",
        "\n",
        "### What features in the dataset do you think will help support your investigation into your feature(s) of interest?\n",
        "\n",
        "> bike_id\tuser_type\tmember_gender\tmember_age\tduration_sec\tduration_hrs\tstart_time\tstart_hour\t\n",
        "> Start_day\tstart_month\tstart_year\n"
      ]
    },
    {
      "cell_type": "markdown",
      "metadata": {
        "id": "dkeSySnkFNuf"
      },
      "source": [
        "## Univariate Exploration\n",
        "\n",
        "> In this section, investigate distributions of individual variables. If\n",
        "you see unusual points or outliers, take a deeper look to clean things up\n",
        "and prepare yourself to look at relationships between variables."
      ]
    },
    {
      "cell_type": "code",
      "source": [
        "# Setting the figure size for this plot\n",
        "fig, ax = plt.subplots(1, figsize = (10, 6))\n",
        "\n",
        "# Plotting the count plot\n",
        "plot = sns.countplot(data = df_clean, x = \"user_type\", color = \"steelblue\");\n",
        "\n",
        "# Adding annotation Percentages\n",
        "# https://stackoverflow.com/questions/31749448/how-to-add-percentages-on-top-of-grouped-bars\n",
        "for c in ax.containers:\n",
        "\n",
        "  # Counting Users for percentage calculation\n",
        "  user_type_count = df_clean[\"user_type\"].count() \n",
        "\n",
        "  # custom label calculates percent and add an empty string so 0 value bars don't have a number\n",
        "  labels = [f\"{h / user_type_count * 100:0.0f}%\" if (h := v.get_height()) > 0 else \"\" for v in c]\n",
        "\n",
        "  # Setting the on-bar label settings\n",
        "  ax.bar_label(c, labels = labels, label_type = \"center\", fontsize = 20, color = \"white\")\n",
        "\n",
        "# Setting the plot title\n",
        "plot.set_title(\"User's Type\", fontsize = 20, fontweight = \"bold\", pad = 20)\n",
        "\n",
        "# Setting the x-label\n",
        "plot.set_xlabel(\"Type\", fontsize = 20, labelpad = 20)\n",
        "# Removing the y-axis ticks and labels\n",
        "plot.set_ylabel(\"\")\n",
        "plot.set_yticks([])\n",
        "              \n",
        "# Increasing the x-ticks font size\n",
        "plt.xticks(fontsize = 15)\n",
        "plt.yticks(fontsize = 15)\n",
        "\n",
        "# Removing plot spine and setting style\n",
        "sns.despine(left = True);"
      ],
      "metadata": {
        "colab": {
          "base_uri": "https://localhost:8080/",
          "height": 453
        },
        "id": "lX6rZiNSmZ60",
        "outputId": "9ad30c1c-4ece-4dd4-861f-b90c4782def0"
      },
      "execution_count": 19,
      "outputs": [
        {
          "output_type": "display_data",
          "data": {
            "text/plain": [
              "<Figure size 720x432 with 1 Axes>"
            ],
            "image/png": "[encoded data removed]"
          },
          "metadata": {
            "needs_background": "light"
          }
        }
      ]
    },
    {
      "cell_type": "markdown",
      "metadata": {
        "id": "mEZPQta8FNuk"
      },
      "source": [
        "> About a 90% of the users are subscribed to the service and others are just customers  "
      ]
    },
    {
      "cell_type": "code",
      "execution_count": 20,
      "metadata": {
        "colab": {
          "base_uri": "https://localhost:8080/",
          "height": 453
        },
        "id": "M8nXQ9YQFNul",
        "outputId": "6f316956-e6ee-44b2-e148-00508b432b90"
      },
      "outputs": [
        {
          "output_type": "display_data",
          "data": {
            "text/plain": [
              "<Figure size 720x432 with 1 Axes>"
            ],
            "image/png": "[encoded data removed]"
          },
          "metadata": {
            "needs_background": "light"
          }
        }
      ],
      "source": [
        "# Setting the figure size for this plot\n",
        "fig, ax = plt.subplots(1, figsize = (10, 6))\n",
        "\n",
        "# Plotting the count plot\n",
        "plot = sns.countplot(data = df_clean, x = \"member_gender\", color = \"steelblue\");\n",
        "\n",
        "# Adding annotation Percentages\n",
        "# https://stackoverflow.com/questions/31749448/how-to-add-percentages-on-top-of-grouped-bars\n",
        "for c in ax.containers:\n",
        "\n",
        "  # Counting Users for percentage calculation\n",
        "  gender_count = df_clean[\"member_gender\"].count() \n",
        "\n",
        "  # custom label calculates percent and add an empty string so 0 value bars don't have a number\n",
        "  labels = [f\"{h / gender_count * 100:0.0f}%\" if (h := v.get_height()) > 0 else \"\" for v in c]\n",
        "\n",
        "  # Setting the on-bar label settings\n",
        "  ax.bar_label(c, labels = labels, label_type = \"center\", fontsize = 20, color = \"white\")\n",
        "\n",
        "\n",
        "# Setting the plot title\n",
        "plot.set_title(\"Member's Gender\", fontsize = 20, fontweight = \"bold\", pad = 20)\n",
        "\n",
        "# Setting the x-label\n",
        "plot.set_xlabel(\"Gender\", fontsize = 20, labelpad = 20)\n",
        "# Removing the y-axis ticks and labels\n",
        "plot.set_ylabel(\"\")\n",
        "plot.set_yticks([])\n",
        "\n",
        "# Increasing the x-ticks font size\n",
        "plt.xticks(fontsize = 15)\n",
        "plt.yticks(fontsize = 15)\n",
        "\n",
        "# Removing plot spine and setting style\n",
        "sns.despine(left = True);"
      ]
    },
    {
      "cell_type": "markdown",
      "metadata": {
        "id": "2pkQunyLFNup"
      },
      "source": [
        "> Most of users tend to be Males by 76%"
      ]
    },
    {
      "cell_type": "code",
      "execution_count": 21,
      "metadata": {
        "colab": {
          "base_uri": "https://localhost:8080/",
          "height": 453
        },
        "id": "zWE4Gx2tFNur",
        "outputId": "b73b990f-005b-4bf7-e22c-e0310b286145"
      },
      "outputs": [
        {
          "output_type": "display_data",
          "data": {
            "text/plain": [
              "<Figure size 720x432 with 1 Axes>"
            ],
            "image/png": "[encoded data removed]"
          },
          "metadata": {
            "needs_background": "light"
          }
        }
      ],
      "source": [
        "weekdays = [\"Mon\", \"Tue\", \"Wed\", \"Thu\", \"Fri\", \"Sat\", \"Sun\"]\n",
        "\n",
        "# Setting the figure size for this plot.\n",
        "fig, ax = plt.subplots(1, figsize = (10, 6))\n",
        "\n",
        "# Plotting the count plot\n",
        "plot = sns.countplot(data = df_clean, x = \"Start_day\", order = weekdays);\n",
        "\n",
        "# Highlighting the most busy day in the week.\n",
        "for bar in plot.patches:\n",
        "  # If the bar height is equal to the max value in the start_day value counts change the color to 'steelblue'.\n",
        "  if bar.get_height() == max(df_clean[\"Start_day\"].value_counts()):\n",
        "    # Changing the color of the bar.\n",
        "    bar.set_color(\"steelblue\")    \n",
        "  else:\n",
        "    bar.set_color(\"grey\")\n",
        "\n",
        "# Adding annotation Percentages.\n",
        "# https://stackoverflow.com/questions/31749448/how-to-add-percentages-on-top-of-grouped-bars\n",
        "for c in ax.containers:\n",
        "\n",
        "  # Counting Users for percentage calculation.\n",
        "  week_days_count = df_clean[\"Start_day\"].count() \n",
        "\n",
        "  # custom label calculates percent and add an empty string so 0 value bars don't have a number.\n",
        "  labels = [f\"{h / week_days_count * 100:0.0f}%\" if (h := v.get_height()) > 0 else \"\" for v in c]\n",
        "\n",
        "  # Setting the on-bar label settings\n",
        "  ax.bar_label(c, labels = labels, label_type = \"center\", fontsize = 20, color = \"white\")\n",
        "\n",
        "\n",
        "# Setting the plot title\n",
        "plot.set_title(\"Total Of Service Usage Across Week Days\", fontsize = 20, fontweight = \"bold\", pad = 20)\n",
        "\n",
        "# Setting the x-label\n",
        "plot.set_xlabel(\"Week Day\", fontsize = 20, labelpad = 20)\n",
        "# Removing the y-axis ticks and labels\n",
        "plot.set_ylabel(\"\")\n",
        "plot.set_yticks([])\n",
        "\n",
        "# Increasing the x-ticks font size\n",
        "plt.xticks(fontsize = 15)\n",
        "plt.yticks(fontsize = 15)\n",
        "\n",
        "# Removing plot spine and setting style\n",
        "sns.despine(left = True);"
      ]
    },
    {
      "cell_type": "code",
      "execution_count": 22,
      "metadata": {
        "colab": {
          "base_uri": "https://localhost:8080/"
        },
        "id": "j8D8EWGFFNus",
        "outputId": "c651e9ce-a8e9-49b3-dc17-6e598e000f1d"
      },
      "outputs": [
        {
          "output_type": "stream",
          "name": "stdout",
          "text": [
            "83% of services usage are done in workdays.\n"
          ]
        }
      ],
      "source": [
        "# Calculating the percentage of usage in workdays\n",
        "\n",
        "# Defining work days in a list for filtering\n",
        "work_days = [\"Mon\", \"Tue\", \"Wed\", \"Thu\", \"Fri\"]\n",
        "\n",
        "# Calculating the percentage\n",
        "work_days_usage = round(len(df_clean.query(f\"Start_day in {work_days}\")) / len(df_clean[\"Start_day\"]) * 100)\n",
        "\n",
        "# Printing findings\n",
        "print(f\"{work_days_usage}% of services usage are done in workdays.\")"
      ]
    },
    {
      "cell_type": "markdown",
      "metadata": {
        "id": "5VtSxEBNFNuv"
      },
      "source": [
        "> Most of the bikes usage are in the work days ~(83%), with high usage on Tuesday; assuming it's used to commute to work  "
      ]
    },
    {
      "cell_type": "markdown",
      "metadata": {
        "id": "doj911TTFNuw"
      },
      "source": [
        "> Make sure that, after every plot or related series of plots, that you\n",
        "include a Markdown cell with comments about what you observed, and what\n",
        "you plan on investigating next."
      ]
    },
    {
      "cell_type": "code",
      "execution_count": 23,
      "metadata": {
        "colab": {
          "base_uri": "https://localhost:8080/"
        },
        "id": "Z2IiITHVFNu2",
        "outputId": "dce70ed5-d6cc-4ebb-b823-f4a7a7a5ff9e"
      },
      "outputs": [
        {
          "output_type": "execute_result",
          "data": {
            "text/plain": [
              "count    156924.000000\n",
              "mean          5.789681\n",
              "std          13.297191\n",
              "min           0.508333\n",
              "25%           2.683333\n",
              "50%           4.233333\n",
              "75%           6.525000\n",
              "max         704.566667\n",
              "Name: duration_hrs, dtype: float64"
            ]
          },
          "metadata": {},
          "execution_count": 23
        }
      ],
      "source": [
        "df[\"duration_hrs\"].describe()"
      ]
    },
    {
      "cell_type": "code",
      "execution_count": 24,
      "metadata": {
        "colab": {
          "base_uri": "https://localhost:8080/",
          "height": 382
        },
        "id": "8B7a1MHbFNu3",
        "outputId": "4a05e1e6-54a7-45dd-96f7-da76e0a16641"
      },
      "outputs": [
        {
          "output_type": "display_data",
          "data": {
            "text/plain": [
              "<Figure size 720x360 with 1 Axes>"
            ],
            "image/png": "[encoded data removed]"
          },
          "metadata": {
            "needs_background": "light"
          }
        }
      ],
      "source": [
        "# Setting the figure size for this plot\n",
        "fig, ax = plt.subplots(1, figsize=(10, 5))\n",
        "\n",
        "# Setting up the bins fro the histogram\n",
        "bins = np.arange(0, df_clean[\"duration_hrs\"].mean() + 40, 1)\n",
        "\n",
        "# Ploting a histogram showing the 'duration_hrs' distribution \n",
        "plot = sns.histplot(df_clean[\"duration_hrs\"], bins = bins, color = \"gray\");\n",
        "\n",
        "# Setting the plot title\n",
        "plot.set_title(\"Bikes Trip Duration Distribution\", fontsize= 16, fontweight = \"bold\", pad = 20)\n",
        "\n",
        "# Setting the x-label\n",
        "plot.set_xlabel(\"Duration In Hours\", fontsize = 15, labelpad = 10)\n",
        "# Removing the y-label for readability\n",
        "plot.set_ylabel(\" \")\n",
        "\n",
        "# Highlighting the the frequent respondent age range \n",
        "for n in range(1, 7):\n",
        "  plot.patches[n].set_facecolor(\"steelblue\")\n",
        "\n",
        "# Increasing the x-ticks font size\n",
        "plt.xticks(fontsize = 15)\n",
        "plt.yticks(fontsize = 15)\n",
        "\n",
        "# Removing plot spine\n",
        "sns.despine(top = True)"
      ]
    },
    {
      "cell_type": "markdown",
      "metadata": {
        "id": "zknYFbmyFNu5"
      },
      "source": [
        "> Most of the trips duration are 5 to 10 hours long."
      ]
    },
    {
      "cell_type": "markdown",
      "metadata": {
        "id": "wi_m_ncsFNu6"
      },
      "source": [
        "### Discuss the distribution(s) of your variable(s) of interest. Were there any unusual points? Did you need to perform any transformations?\n",
        "\n",
        "- Around 90% of users are subscribers.\n",
        "\n",
        "- Around of 75% of users are males.\n",
        "\n",
        "- Around 83% of trips are done on the weekdays and in the weekends.\n",
        "\n",
        "- Thursday has the most trips done.\n",
        "\n",
        "- Trip hourly duration distribution is skewed to the right with most of the trips are within the range of 5 to 10 hours long.\n",
        "\n",
        "### Of the features you investigated, were there any unusual distributions? Did you perform any operations on the data to tidy, adjust, or change the form of the data? If so, why did you do this?\n",
        "\n",
        "> Changed the start time variable to a date time object to extract dates from it using dt() method and create the start day / hour / month / year, also remove the gender type others to limit the investigation to Females/Males only and used member_birth_year to calculate the members age "
      ]
    },
    {
      "cell_type": "markdown",
      "metadata": {
        "id": "pRZkG4KWFNu7"
      },
      "source": [
        "## Bivariate Exploration\n",
        "\n",
        "> In this section, investigate relationships between pairs of variables in your\n",
        "data. Make sure the variables that you cover here have been introduced in some\n",
        "fashion in the previous section (univariate exploration)."
      ]
    },
    {
      "cell_type": "code",
      "execution_count": 25,
      "metadata": {
        "colab": {
          "base_uri": "https://localhost:8080/",
          "height": 392
        },
        "id": "5hYMyxvaFNu8",
        "outputId": "eee3b568-a3e1-4ce4-882b-3499b34a9601"
      },
      "outputs": [
        {
          "output_type": "display_data",
          "data": {
            "text/plain": [
              "<Figure size 1080x360 with 1 Axes>"
            ],
            "image/png": "[encoded data removed]"
          },
          "metadata": {
            "needs_background": "light"
          }
        }
      ],
      "source": [
        "# Setting the figure size for this plot\n",
        "fig, ax = plt.subplots(1, figsize=(15, 5))\n",
        "\n",
        "# Plotting \n",
        "plot = sns.countplot(data = df_clean, x = \"member_age\", hue = \"user_type\");\n",
        "\n",
        "# Setting up the legend\n",
        "plt.legend(loc=\"upper right\", fancybox = True, shadow = True)\n",
        "# Increasing legend text and title size\n",
        "plt.setp(ax.get_legend().get_texts(), fontsize = \"15\") \n",
        "plt.setp(ax.get_legend().get_title(), fontsize = \"15\") \n",
        "\n",
        "# Setting the plot title\n",
        "plot.set_title(\"Relationship Between Users Type And Age\", fontsize= 20, fontweight = \"bold\", pad = 20)\n",
        "\n",
        "# Setting the x-label\n",
        "plot.set_xlabel(\"User Type | Age\", fontsize = 20, labelpad = 15)\n",
        "# Removing the y-label for readability\n",
        "plot.set_ylabel(\" \")\n",
        "\n",
        "# Increasing the x-ticks font size\n",
        "plt.xticks(fontsize = 13)\n",
        "plt.yticks(fontsize = 15)\n",
        "\n",
        "# Removing plot spine\n",
        "sns.despine(top = True)"
      ]
    },
    {
      "cell_type": "code",
      "execution_count": 26,
      "metadata": {
        "colab": {
          "base_uri": "https://localhost:8080/",
          "height": 463
        },
        "id": "aP7_v_B5FNu-",
        "outputId": "938b5f0d-ac25-45ed-b0ab-41a21b587f59"
      },
      "outputs": [
        {
          "output_type": "display_data",
          "data": {
            "text/plain": [
              "<Figure size 720x432 with 1 Axes>"
            ],
            "image/png": "[encoded data removed]"
          },
          "metadata": {
            "needs_background": "light"
          }
        }
      ],
      "source": [
        "# Setting the figure size for this plot\n",
        "fig, ax = plt.subplots(1, figsize = (10, 6))\n",
        "\n",
        "# Plotting the count plot\n",
        "plot = sns.boxplot(data = df_clean, x= \"member_gender\", y= \"duration_hrs\", color = \"steelblue\");\n",
        "plt.ylim(0, 20)\n",
        "\n",
        "# Setting the plot title\n",
        "plot.set_title(\"Duration Of Trip | Gender\", fontsize = 20, fontweight = \"bold\", pad = 30)\n",
        "\n",
        "# Setting the x-label\n",
        "plot.set_xlabel(\"Gender\", fontsize = 20, labelpad = 20)\n",
        "# Setting the Y-label\n",
        "plot.set_ylabel(\"Duration In Hours\", fontsize = 20, labelpad = 20)\n",
        "\n",
        "# Increasing the x-ticks font size\n",
        "plt.xticks(fontsize = 15)\n",
        "plt.yticks(fontsize = 15)\n",
        "\n",
        "# Removing plot spine and setting style\n",
        "sns.despine()"
      ]
    },
    {
      "cell_type": "markdown",
      "metadata": {
        "id": "9NZirTzpFNvA"
      },
      "source": [
        "> Females users seem to have a slightly longer trips"
      ]
    },
    {
      "cell_type": "code",
      "execution_count": 27,
      "metadata": {
        "scrolled": true,
        "colab": {
          "base_uri": "https://localhost:8080/",
          "height": 463
        },
        "id": "SGDT-Y9JFNvB",
        "outputId": "c2c22402-ec4e-4825-b23a-2e6da205f0ba"
      },
      "outputs": [
        {
          "output_type": "display_data",
          "data": {
            "text/plain": [
              "<Figure size 720x432 with 1 Axes>"
            ],
            "image/png": "[encoded data removed]"
          },
          "metadata": {
            "needs_background": "light"
          }
        }
      ],
      "source": [
        "# Setting the figure size for this plot\n",
        "fig, ax = plt.subplots(1, figsize = (10, 6))\n",
        "\n",
        "# Plotting the count plot\n",
        "plot = sns.boxplot(data = df_clean, x = \"user_type\", y = \"duration_hrs\", color = \"steelblue\");\n",
        "plt.ylim(0, 20)\n",
        "\n",
        "# Setting the plot title\n",
        "plot.set_title(\"Duration Of Trip | User Type\", fontsize = 20, fontweight = \"bold\", pad = 30)\n",
        "\n",
        "# Setting the x-label\n",
        "plot.set_xlabel(\"User Type\", fontsize = 20, labelpad = 20)\n",
        "# Setting the Y-label\n",
        "plot.set_ylabel(\"Duration In Hours\", fontsize = 20, labelpad = 20)\n",
        "\n",
        "# Increasing the x-ticks font size\n",
        "plt.xticks(fontsize = 15)\n",
        "plt.yticks(fontsize = 15)\n",
        "\n",
        "# Removing plot spine and setting style\n",
        "sns.despine()"
      ]
    },
    {
      "cell_type": "markdown",
      "metadata": {
        "id": "Ld0oLTaqFNvH"
      },
      "source": [
        "> Customers seems to have longer trips"
      ]
    },
    {
      "cell_type": "markdown",
      "metadata": {
        "id": "YrgbXf_fFNvI"
      },
      "source": [
        "### Talk about some of the relationships you observed in this part of the investigation. How did the feature(s) of interest vary with other features in the dataset?\n",
        " \n",
        "- Trip count and duration decreases as the member age goes update\n",
        "\n",
        "- Most of customers and subscribers that are taking the trips are within the ages of 27 to 37.\n",
        "\n",
        "- Females trips duration are slightly longer that males\n",
        "\n",
        "- Customers over all take longer trips than subscribers.\n",
        "\n",
        "### Did you observe any interesting relationships between the other features (not the main feature(s) of interest)?\n",
        "\n",
        "> most of users are males but females take the longer trips but also\n",
        "> customers take longer trips over all than subscribers so i'm asumming\n",
        "> most of most of customers are females.\n"
      ]
    },
    {
      "cell_type": "markdown",
      "metadata": {
        "id": "RmqNYVnQFNvJ"
      },
      "source": [
        "## Multivariate Exploration\n",
        "\n",
        "> Create plots of three or more variables to investigate your data even\n",
        "further. Make sure that your investigations are justified, and follow from\n",
        "your work in the previous sections."
      ]
    },
    {
      "cell_type": "code",
      "execution_count": 28,
      "metadata": {
        "scrolled": true,
        "colab": {
          "base_uri": "https://localhost:8080/",
          "height": 483
        },
        "id": "Cr-ftVe9FNvL",
        "outputId": "d513b64b-2ca6-454f-e9a3-e1d5d93b4d70"
      },
      "outputs": [
        {
          "output_type": "display_data",
          "data": {
            "text/plain": [
              "<Figure size 720x432 with 1 Axes>"
            ],
            "image/png": "[encoded data removed]"
          },
          "metadata": {
            "needs_background": "light"
          }
        }
      ],
      "source": [
        "# Setting the figure size for this plot\n",
        "fig, ax = plt.subplots(1, figsize = (10, 6))\n",
        "\n",
        "# A list of week days order\n",
        "weekdays = [\"Mon\", \"Tue\", \"Wed\", \"Thu\", \"Fri\", \"Sat\", \"Sun\"]\n",
        "\n",
        "# Plotting the pointplot\n",
        "plot = sns.pointplot(data = df_clean, x = \"Start_day\", y= \"duration_hrs\", hue = \"user_type\", order = weekdays);\n",
        "\n",
        "# Setting up the legend\n",
        "plt.legend(bbox_to_anchor=(1, 1.1), loc=\"upper left\", fancybox = True, shadow = True)\n",
        "# Increasing legend text and title size\n",
        "plt.setp(ax.get_legend().get_texts(), fontsize = \"15\") \n",
        "plt.setp(ax.get_legend().get_title(), fontsize = \"15\") \n",
        "\n",
        "# Setting the plot title\n",
        "plot.set_title(\"Relationship Between Week Days And The Duration \\n Of Trip In Hours | User Type\", fontsize = 18, fontweight = \"bold\", pad = 30)\n",
        "\n",
        "# Setting the x-label\n",
        "plot.set_xlabel(\"Week Days\", fontsize = 20, labelpad = 20)\n",
        "# Setting the Y-label\n",
        "plot.set_ylabel(\"Duration In Hours\", fontsize = 20, labelpad = 20)\n",
        "\n",
        "# Increasing the x-ticks font size\n",
        "plt.xticks(fontsize = 15)\n",
        "plt.yticks(fontsize = 15)\n",
        "\n",
        "# Removing plot spine and setting style\n",
        "sns.despine()"
      ]
    },
    {
      "cell_type": "markdown",
      "metadata": {
        "id": "_ibYGFMcFNvN"
      },
      "source": [
        "> Customers seem to take more trips on weekends than subscribers, subscribers seems to have asteady trip dutaion across the week with a little dip in the duration on weekends"
      ]
    },
    {
      "cell_type": "code",
      "execution_count": 29,
      "metadata": {
        "id": "p314rJETFNvO"
      },
      "outputs": [],
      "source": [
        "df_clean[\"Start_day\"] = pd.Categorical(\n",
        "  df_clean[\"Start_day\"], \n",
        "  categories= [\"Mon\", \"Tue\", \"Wed\", \"Thu\", \"Fri\", \"Sat\", \"Sun\"], \n",
        "  ordered = True\n",
        ")"
      ]
    },
    {
      "cell_type": "code",
      "execution_count": 36,
      "metadata": {
        "colab": {
          "base_uri": "https://localhost:8080/",
          "height": 661
        },
        "id": "9_deAwpFFNvP",
        "outputId": "300cc8b0-b43f-4ee6-a86b-15bf34e4aae8"
      },
      "outputs": [
        {
          "output_type": "display_data",
          "data": {
            "text/plain": [
              "<Figure size 1440x720 with 4 Axes>"
            ],
            "image/png": "[encoded data removed]"
          },
          "metadata": {
            "needs_background": "light"
          }
        }
      ],
      "source": [
        "# ----------- SETTING UP DATA ----------- #\n",
        "\n",
        "# ------ MALES DATA ------ #\n",
        "males = df_clean.query(\"member_gender == 'Male'\")\n",
        "males = males.groupby([\"start_hour\", \"Start_day\"])[\"bike_id\"].size().reset_index()\n",
        "males = males.pivot(\"start_hour\", \"Start_day\", \"bike_id\")\n",
        "\n",
        "\n",
        "# ------ FEMALES DATA ------ #\n",
        "females = df_clean.query(\"member_gender == 'Female'\")\n",
        "females = females.groupby([\"start_hour\", \"Start_day\"])[\"bike_id\"].size().reset_index()\n",
        "females = females.pivot(\"start_hour\", \"Start_day\", \"bike_id\")\n",
        "\n",
        "\n",
        "# ----------- PLOTTING HEATMAPS ----------- #\n",
        "\n",
        "# Setting up figure size\n",
        "plt.figure(figsize= (20, 10))\n",
        "\n",
        "# ---- MALES HEATMAP ---- #\n",
        "\n",
        "# Setting the figure size for this plot\n",
        "plt.subplot(1, 2, 2)\n",
        "\n",
        "# Plotting the males heatmap\n",
        "plot_1 = sns.heatmap(\n",
        "    males, \n",
        "    cmap = \"BuPu\", \n",
        "    linewidth = 1,\n",
        "    linecolor = \"gray\",\n",
        ");\n",
        "\n",
        "# Adding the figure Title and setting the font settings\n",
        "plot_1.set_title(\"Males\", fontsize = 20, fontweight = \"bold\", pad=20)\n",
        "\n",
        "# Setting the x and y labels\n",
        "plot_1.set_xlabel(\"Week Days\", fontsize = 17, labelpad = 13)\n",
        "plot_1.set_ylabel(\"Starting Hour\", fontsize = 17, labelpad = 13);\n",
        "\n",
        "# Increasing the x-ticks font size\n",
        "plt.yticks(fontsize = 13)\n",
        "plt.xticks(fontsize = 13)\n",
        "\n",
        "# ---- FEMALES HEATMAP ---- #\n",
        "\n",
        "# Setting the figure size for this plot\n",
        "plt.subplot(1, 2, 1) \n",
        "\n",
        "# Plotting the females heatmap\n",
        "plot_2 = sns.heatmap(\n",
        "    females, \n",
        "    cmap = \"BuPu\", \n",
        "    linewidth = 1,\n",
        "    linecolor = \"gray\",\n",
        ");\n",
        "\n",
        "# Adding the figure Title and setting the font settings\n",
        "plot_2.set_title(\"Females\", fontsize = 20, fontweight = \"bold\", pad=20)\n",
        "\n",
        "# Setting the x and y labels\n",
        "plot_2.set_xlabel(\"Week Days\", fontsize = 17, labelpad = 13)\n",
        "plot_2.set_ylabel(\"Starting Hour\", fontsize = 17, labelpad = 13)\n",
        "\n",
        "# Increasing the x-ticks font size\n",
        "plt.yticks(fontsize = 13)\n",
        "plt.xticks(fontsize = 13);"
      ]
    },
    {
      "cell_type": "markdown",
      "metadata": {
        "id": "Oa2UGljKFNvR"
      },
      "source": [
        "> Most trips done by females userss are on tuesdays and wednesdays and also fridays around 9 to 7 am and 6 to 8 pm Same thing seems to be true for males users"
      ]
    },
    {
      "cell_type": "markdown",
      "metadata": {
        "id": "9nQXQ_a6FNvS"
      },
      "source": [
        " ### Talk about some of the relationships you observed in this part of the investigation. Were there features that strengthened each other in terms of looking at your feature(s) of interest?\n",
        "\n",
        "> Workdays and trips duration , also trip time users seems to make trips around 7 to 9 am and also around 6 to 8 pm, which strengthes the assumption that users are using the service to commute to and from work\n",
        "\n",
        "### Were there any interesting or surprising interactions between features?\n",
        "\n",
        "> No, not really"
      ]
    }
  ],
  "metadata": {
    "celltoolbar": "Slideshow",
    "kernelspec": {
      "display_name": "Python 3",
      "language": "python",
      "name": "python3"
    },
    "language_info": {
      "codemirror_mode": {
        "name": "ipython",
        "version": 3
      },
      "file_extension": ".py",
      "mimetype": "text/x-python",
      "name": "python",
      "nbconvert_exporter": "python",
      "pygments_lexer": "ipython3",
      "version": "3.8.5"
    },
    "colab": {
      "provenance": []
    }
  },
  "nbformat": 4,
  "nbformat_minor": 0
}