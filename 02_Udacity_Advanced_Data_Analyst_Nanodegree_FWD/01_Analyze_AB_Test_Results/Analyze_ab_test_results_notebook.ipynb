{
  "cells": [
    {
      "cell_type": "markdown",
      "metadata": {
        "id": "4IJnHLxMDXgV"
      },
      "source": [
        "# Analyze A/B Test Results \n",
        "\n",
        "This project will assure you have mastered the subjects covered in the statistics lessons. We have organized the current notebook into the following sections: \n",
        "\n",
        "- [Introduction](#intro)\n",
        "- [Part I - Probability](#probability)\n",
        "- [Part II - A/B Test](#ab_test)\n",
        "- [Part III - Regression](#regression)\n",
        "- [Final Check](#finalcheck)\n",
        "- [Submission](#submission)\n",
        "\n",
        "Specific programming tasks are marked with a **ToDo** tag. \n",
        "\n",
        "<a id='intro'></a>\n",
        "## Introduction\n",
        "\n",
        "A/B tests are very commonly performed by data analysts and data scientists. For this project, you will be working to understand the results of an A/B test run by an e-commerce website.  Your goal is to work through this notebook to help the company understand if they should:\n",
        "- Implement the new webpage, \n",
        "- Keep the old webpage, or \n",
        "- Perhaps run the experiment longer to make their decision.\n",
        "\n",
        "Each **ToDo** task below has an associated quiz present in the classroom.  Though the classroom quizzes are **not necessary** to complete the project, they help ensure you are on the right track as you work through the project, and you can feel more confident in your final submission meeting the [rubric](https://review.udacity.com/#!/rubrics/1214/view) specification. \n",
        "\n",
        ">**Tip**: Though it's not a mandate, students can attempt the classroom quizzes to ensure statistical numeric values are calculated correctly in many cases.\n",
        "\n",
        "<a id='probability'></a>\n",
        "## Part I - Probability\n",
        "\n",
        "To get started, let's import our libraries."
      ]
    },
    {
      "cell_type": "code",
      "execution_count": null,
      "metadata": {
        "id": "NOm-r_DzDXgo"
      },
      "outputs": [],
      "source": [
        "import pandas as pd\n",
        "import numpy as np\n",
        "import random\n",
        "import matplotlib.pyplot as plt\n",
        "%matplotlib inline\n",
        "#We are setting the seed to assure you get the same answers on quizzes as we set up\n",
        "random.seed(42)"
      ]
    },
    {
      "cell_type": "markdown",
      "metadata": {
        "id": "ubWtXmErDXgu"
      },
      "source": [
        "### ToDo 1.1\n",
        "Now, read in the `ab_data.csv` data. Store it in `df`. Below is the description of the data, there are a total of 5 columns:\n",
        "\n",
        "<center>\n",
        "\n",
        "|Data columns|Purpose|Valid values|\n",
        "| ------------- |:-------------| -----:|\n",
        "|user_id|Unique ID|Int64 values|\n",
        "|timestamp|Time stamp when the user visited the webpage|-|\n",
        "|group|In the current A/B experiment, the users are categorized into two broad groups. <br>The `control` group users are expected to be served with `old_page`; and `treatment` group users are matched with the `new_page`. <br>However, **some inaccurate rows** are present in the initial data, such as a `control` group user is matched with a `new_page`. |`['control', 'treatment']`|\n",
        "|landing_page|It denotes whether the user visited the old or new webpage.|`['old_page', 'new_page']`|\n",
        "|converted|It denotes whether the user decided to pay for the company's product. Here, `1` means yes, the user bought the product.|`[0, 1]`|\n",
        "</center>\n",
        "Use your dataframe to answer the questions in Quiz 1 of the classroom.\n",
        "\n",
        "\n",
        ">**Tip**: Please save your work regularly.\n",
        "\n",
        "**a.** Read in the dataset from the `ab_data.csv` file and take a look at the top few rows here:"
      ]
    },
    {
      "cell_type": "code",
      "execution_count": null,
      "metadata": {
        "id": "lIki7bqDDXgx",
        "outputId": "b3c0f3c5-93d7-42c7-95fd-5233c7b40b19"
      },
      "outputs": [
        {
          "data": {
            "text/html": [
              "<div>\n",
              "<style scoped>\n",
              "    .dataframe tbody tr th:only-of-type {\n",
              "        vertical-align: middle;\n",
              "    }\n",
              "\n",
              "    .dataframe tbody tr th {\n",
              "        vertical-align: top;\n",
              "    }\n",
              "\n",
              "    .dataframe thead th {\n",
              "        text-align: right;\n",
              "    }\n",
              "</style>\n",
              "<table border=\"1\" class=\"dataframe\">\n",
              "  <thead>\n",
              "    <tr style=\"text-align: right;\">\n",
              "      <th></th>\n",
              "      <th>user_id</th>\n",
              "      <th>timestamp</th>\n",
              "      <th>group</th>\n",
              "      <th>landing_page</th>\n",
              "      <th>converted</th>\n",
              "    </tr>\n",
              "  </thead>\n",
              "  <tbody>\n",
              "    <tr>\n",
              "      <th>0</th>\n",
              "      <td>851104</td>\n",
              "      <td>2017-01-21 22:11:48.556739</td>\n",
              "      <td>control</td>\n",
              "      <td>old_page</td>\n",
              "      <td>0</td>\n",
              "    </tr>\n",
              "    <tr>\n",
              "      <th>1</th>\n",
              "      <td>804228</td>\n",
              "      <td>2017-01-12 08:01:45.159739</td>\n",
              "      <td>control</td>\n",
              "      <td>old_page</td>\n",
              "      <td>0</td>\n",
              "    </tr>\n",
              "    <tr>\n",
              "      <th>2</th>\n",
              "      <td>661590</td>\n",
              "      <td>2017-01-11 16:55:06.154213</td>\n",
              "      <td>treatment</td>\n",
              "      <td>new_page</td>\n",
              "      <td>0</td>\n",
              "    </tr>\n",
              "    <tr>\n",
              "      <th>3</th>\n",
              "      <td>853541</td>\n",
              "      <td>2017-01-08 18:28:03.143765</td>\n",
              "      <td>treatment</td>\n",
              "      <td>new_page</td>\n",
              "      <td>0</td>\n",
              "    </tr>\n",
              "    <tr>\n",
              "      <th>4</th>\n",
              "      <td>864975</td>\n",
              "      <td>2017-01-21 01:52:26.210827</td>\n",
              "      <td>control</td>\n",
              "      <td>old_page</td>\n",
              "      <td>1</td>\n",
              "    </tr>\n",
              "  </tbody>\n",
              "</table>\n",
              "</div>"
            ],
            "text/plain": [
              "   user_id                   timestamp      group landing_page  converted\n",
              "0   851104  2017-01-21 22:11:48.556739    control     old_page          0\n",
              "1   804228  2017-01-12 08:01:45.159739    control     old_page          0\n",
              "2   661590  2017-01-11 16:55:06.154213  treatment     new_page          0\n",
              "3   853541  2017-01-08 18:28:03.143765  treatment     new_page          0\n",
              "4   864975  2017-01-21 01:52:26.210827    control     old_page          1"
            ]
          },
          "execution_count": 3,
          "metadata": {},
          "output_type": "execute_result"
        }
      ],
      "source": [
        "df = pd.read_csv(r\"ab_data.csv\")\n",
        "df.head()"
      ]
    },
    {
      "cell_type": "markdown",
      "metadata": {
        "id": "3t1sB2rbDXg2"
      },
      "source": [
        "**b.** Use the cell below to find the number of rows in the dataset."
      ]
    },
    {
      "cell_type": "code",
      "execution_count": null,
      "metadata": {
        "id": "-Oe5003kDXg4",
        "outputId": "0d6a4ee7-62d4-47f5-f372-a182c61e385d"
      },
      "outputs": [
        {
          "data": {
            "text/plain": [
              "(294478, 5)"
            ]
          },
          "execution_count": 4,
          "metadata": {},
          "output_type": "execute_result"
        }
      ],
      "source": [
        "df.shape"
      ]
    },
    {
      "cell_type": "markdown",
      "metadata": {
        "id": "tGInCTdPDXg6"
      },
      "source": [
        "**c.** The number of unique users in the dataset."
      ]
    },
    {
      "cell_type": "code",
      "execution_count": null,
      "metadata": {
        "id": "7Ehqm5wGDXg7",
        "outputId": "cce50b63-6ae5-4d2c-e235-10d44aa46014"
      },
      "outputs": [
        {
          "data": {
            "text/plain": [
              "290584"
            ]
          },
          "execution_count": 5,
          "metadata": {},
          "output_type": "execute_result"
        }
      ],
      "source": [
        "df[\"user_id\"].nunique()"
      ]
    },
    {
      "cell_type": "markdown",
      "metadata": {
        "id": "T-cnWAqdDXg9"
      },
      "source": [
        "**d.** The proportion of users converted."
      ]
    },
    {
      "cell_type": "code",
      "execution_count": null,
      "metadata": {
        "id": "5onYwk6QDXg_",
        "outputId": "e31a860d-8307-4ee5-8c91-141b3a7ad508"
      },
      "outputs": [
        {
          "data": {
            "text/plain": [
              "0.11965919355605512"
            ]
          },
          "execution_count": 6,
          "metadata": {},
          "output_type": "execute_result"
        }
      ],
      "source": [
        "df[\"converted\"].mean()"
      ]
    },
    {
      "cell_type": "markdown",
      "metadata": {
        "id": "kZG_bgX1DXhB"
      },
      "source": [
        "**e.** The number of times when the \"group\" is `treatment` but \"landing_page\" is not a `new_page`."
      ]
    },
    {
      "cell_type": "code",
      "execution_count": null,
      "metadata": {
        "id": "gSfHFApUDXhC",
        "outputId": "8a54bf2c-f555-40e9-d80e-af6e683f0889"
      },
      "outputs": [
        {
          "data": {
            "text/plain": [
              "1965"
            ]
          },
          "execution_count": 7,
          "metadata": {},
          "output_type": "execute_result"
        }
      ],
      "source": [
        "df.query(\"group == 'treatment' & landing_page != 'new_page'\")[\"user_id\"].count()"
      ]
    },
    {
      "cell_type": "markdown",
      "metadata": {
        "id": "tgyZa9V7DXhF"
      },
      "source": [
        "**f.** Do any of the rows have missing values?"
      ]
    },
    {
      "cell_type": "code",
      "execution_count": null,
      "metadata": {
        "id": "5JnvwO2iDXhG",
        "outputId": "ac2231fc-9d0c-4f60-e554-749d47a38088"
      },
      "outputs": [
        {
          "data": {
            "text/plain": [
              "user_id         0\n",
              "timestamp       0\n",
              "group           0\n",
              "landing_page    0\n",
              "converted       0\n",
              "dtype: int64"
            ]
          },
          "execution_count": 8,
          "metadata": {},
          "output_type": "execute_result"
        }
      ],
      "source": [
        "df.isnull().sum()"
      ]
    },
    {
      "cell_type": "markdown",
      "metadata": {
        "id": "X2r_U8eaDXhH"
      },
      "source": [
        "### ToDo 1.2  \n",
        "In a particular row, the **group** and **landing_page** columns should have either of the following acceptable values:\n",
        "\n",
        "|user_id| timestamp|group|landing_page|converted|\n",
        "|---|---|---|---|---|\n",
        "|XXXX|XXXX|`control`| `old_page`|X |\n",
        "|XXXX|XXXX|`treatment`|`new_page`|X |\n",
        "\n",
        "\n",
        "It means, the `control` group users should match with `old_page`; and `treatment` group users should matched with the `new_page`. \n",
        "\n",
        "However, for the rows where `treatment` does not match with `new_page` or `control` does not match with `old_page`, we cannot be sure if such rows truly received the new or old wepage.  \n",
        "\n",
        "\n",
        "Use **Quiz 2** in the classroom to figure out how should we handle the rows where the group and landing_page columns don't match?\n",
        "\n",
        "**a.** Now use the answer to the quiz to create a new dataset that meets the specifications from the quiz.  Store your new dataframe in **df2**."
      ]
    },
    {
      "cell_type": "code",
      "execution_count": null,
      "metadata": {
        "id": "rKJKoex1DXhJ"
      },
      "outputs": [],
      "source": [
        "# Remove the inaccurate rows, and store the result in a new dataframe df2\n",
        "control_remv = df.query(\"group == 'control' & landing_page == 'new_page'\").index\n",
        "treatment_remv = df.query(\"group == 'treatment' & landing_page == 'old_page'\").index\n",
        "df2 = df"
      ]
    },
    {
      "cell_type": "code",
      "execution_count": null,
      "metadata": {
        "id": "NJOToPVrDXhL"
      },
      "outputs": [],
      "source": [
        "df2.drop(control_remv, inplace=True)\n",
        "df2.drop(treatment_remv, inplace=True)"
      ]
    },
    {
      "cell_type": "code",
      "execution_count": null,
      "metadata": {
        "id": "SIG_eYvUDXhN",
        "outputId": "4f67f012-f483-49ff-d396-3f9be2733025"
      },
      "outputs": [
        {
          "data": {
            "text/plain": [
              "0"
            ]
          },
          "execution_count": 11,
          "metadata": {},
          "output_type": "execute_result"
        }
      ],
      "source": [
        "# Double Check all of the incorrect rows were removed from df2 \\\n",
        "# Output of the statement below should be 0\n",
        "df2[\n",
        "    (df2[\"group\"] == \"treatment\") != (df2[\"landing_page\"] == \"new_page\")\n",
        "].shape[0]"
      ]
    },
    {
      "cell_type": "markdown",
      "metadata": {
        "id": "YFX-EeJhDXhP"
      },
      "source": [
        "### ToDo 1.3  \n",
        "Use **df2** and the cells below to answer questions for **Quiz 3** in the classroom."
      ]
    },
    {
      "cell_type": "markdown",
      "metadata": {
        "id": "M4Pmp6cEDXhQ"
      },
      "source": [
        "**a.** How many unique **user_id**s are in **df2**?"
      ]
    },
    {
      "cell_type": "code",
      "execution_count": null,
      "metadata": {
        "id": "4AwDqgv8DXhR",
        "outputId": "5b55aa56-8fcd-4360-c3da-40b7548288df"
      },
      "outputs": [
        {
          "data": {
            "text/plain": [
              "290584"
            ]
          },
          "execution_count": 12,
          "metadata": {},
          "output_type": "execute_result"
        }
      ],
      "source": [
        "df2[\"user_id\"].nunique()"
      ]
    },
    {
      "cell_type": "markdown",
      "metadata": {
        "id": "EPuk3-akDXhT"
      },
      "source": [
        "**b.** There is one **user_id** repeated in **df2**.  What is it?"
      ]
    },
    {
      "cell_type": "code",
      "execution_count": null,
      "metadata": {
        "id": "_CRZt8BbDXhU",
        "outputId": "9703ae7f-2e83-4281-ba96-fd281eb21d0a"
      },
      "outputs": [
        {
          "data": {
            "text/plain": [
              "1"
            ]
          },
          "execution_count": 13,
          "metadata": {},
          "output_type": "execute_result"
        }
      ],
      "source": [
        "df2[\"user_id\"].duplicated().sum()"
      ]
    },
    {
      "cell_type": "markdown",
      "metadata": {
        "id": "AwuVCzQdDXhW"
      },
      "source": [
        "**c.** Display the rows for the duplicate **user_id**? "
      ]
    },
    {
      "cell_type": "code",
      "execution_count": null,
      "metadata": {
        "id": "NG1kIwuRDXhX",
        "outputId": "6f8a4a0c-2374-4496-8a5b-30e91518357d"
      },
      "outputs": [
        {
          "data": {
            "text/html": [
              "<div>\n",
              "<style scoped>\n",
              "    .dataframe tbody tr th:only-of-type {\n",
              "        vertical-align: middle;\n",
              "    }\n",
              "\n",
              "    .dataframe tbody tr th {\n",
              "        vertical-align: top;\n",
              "    }\n",
              "\n",
              "    .dataframe thead th {\n",
              "        text-align: right;\n",
              "    }\n",
              "</style>\n",
              "<table border=\"1\" class=\"dataframe\">\n",
              "  <thead>\n",
              "    <tr style=\"text-align: right;\">\n",
              "      <th></th>\n",
              "      <th>user_id</th>\n",
              "      <th>timestamp</th>\n",
              "      <th>group</th>\n",
              "      <th>landing_page</th>\n",
              "      <th>converted</th>\n",
              "    </tr>\n",
              "  </thead>\n",
              "  <tbody>\n",
              "    <tr>\n",
              "      <th>2893</th>\n",
              "      <td>773192</td>\n",
              "      <td>2017-01-14 02:55:59.590927</td>\n",
              "      <td>treatment</td>\n",
              "      <td>new_page</td>\n",
              "      <td>0</td>\n",
              "    </tr>\n",
              "  </tbody>\n",
              "</table>\n",
              "</div>"
            ],
            "text/plain": [
              "      user_id                   timestamp      group landing_page  converted\n",
              "2893   773192  2017-01-14 02:55:59.590927  treatment     new_page          0"
            ]
          },
          "execution_count": 14,
          "metadata": {},
          "output_type": "execute_result"
        }
      ],
      "source": [
        "df2[df2[\"user_id\"].duplicated()]"
      ]
    },
    {
      "cell_type": "markdown",
      "metadata": {
        "id": "dKqnrbdiDXhY"
      },
      "source": [
        "**d.** Remove **one** of the rows with a duplicate **user_id**, from the **df2** dataframe."
      ]
    },
    {
      "cell_type": "code",
      "execution_count": null,
      "metadata": {
        "id": "RTGsEzJXDXha",
        "outputId": "9ec04dac-66ea-4670-845a-d0861d090bd8"
      },
      "outputs": [
        {
          "data": {
            "text/plain": [
              "0"
            ]
          },
          "execution_count": 15,
          "metadata": {},
          "output_type": "execute_result"
        }
      ],
      "source": [
        "# Remove one of the rows with a duplicate user_id \\\n",
        "# Hint: The dataframe.drop_duplicates() may not work in this case because the rows with duplicate user_id are not entirely identical. \n",
        "df2.drop(2893, inplace = True)\n",
        "# Check again if the row with a duplicate user_id is deleted or not\n",
        "df2[\"user_id\"].duplicated().sum()"
      ]
    },
    {
      "cell_type": "markdown",
      "metadata": {
        "id": "58K62p0HDXhd"
      },
      "source": [
        "### ToDo 1.4  \n",
        "Use **df2** in the cells below to answer the quiz questions related to **Quiz 4** in the classroom.\n",
        "\n",
        "**a.** What is the probability of an individual converting regardless of the page they receive?<br><br>\n",
        "\n",
        ">**Tip**: The probability  you'll compute represents the overall \"converted\" success rate in the population and you may call it $p_{population}$.\n",
        "\n"
      ]
    },
    {
      "cell_type": "code",
      "execution_count": null,
      "metadata": {
        "id": "NajjmIYIDXhe",
        "outputId": "06364cfb-fb38-4a42-ddd6-11175393d3b6"
      },
      "outputs": [
        {
          "data": {
            "text/plain": [
              "0.11959708724499628"
            ]
          },
          "execution_count": 16,
          "metadata": {},
          "output_type": "execute_result"
        }
      ],
      "source": [
        "df[\"converted\"].mean()"
      ]
    },
    {
      "cell_type": "markdown",
      "metadata": {
        "id": "km_gC0HNDXhg"
      },
      "source": [
        "**b.** Given that an individual was in the `control` group, what is the probability they converted?"
      ]
    },
    {
      "cell_type": "code",
      "execution_count": null,
      "metadata": {
        "id": "tuBzDIOzDXhh",
        "outputId": "77132f95-571d-402f-d05a-5c614d76245c"
      },
      "outputs": [
        {
          "data": {
            "text/plain": [
              "0.1203863045004612"
            ]
          },
          "execution_count": 17,
          "metadata": {},
          "output_type": "execute_result"
        }
      ],
      "source": [
        "control_prop = df2.query(\"group == 'control'\")[\"converted\"].mean()\n",
        "control_prop"
      ]
    },
    {
      "cell_type": "markdown",
      "metadata": {
        "id": "KZOJycj_DXhi"
      },
      "source": [
        "**c.** Given that an individual was in the `treatment` group, what is the probability they converted?"
      ]
    },
    {
      "cell_type": "code",
      "execution_count": null,
      "metadata": {
        "id": "WlAZx1gxDXhj",
        "outputId": "0962087b-ea0f-4f4d-8f8b-9eea3e9fd788"
      },
      "outputs": [
        {
          "data": {
            "text/plain": [
              "0.11880806551510564"
            ]
          },
          "execution_count": 18,
          "metadata": {},
          "output_type": "execute_result"
        }
      ],
      "source": [
        "treatment_prop =df2.query(\"group == 'treatment'\")[\"converted\"].mean()\n",
        "treatment_prop"
      ]
    },
    {
      "cell_type": "markdown",
      "metadata": {
        "id": "RFt4oBy1DXhl"
      },
      "source": [
        ">**Tip**: The probabilities you've computed in the points (b). and (c). above can also be treated as conversion rate. \n",
        "Calculate the actual difference  (`obs_diff`) between the conversion rates for the two groups. You will need that later.  "
      ]
    },
    {
      "cell_type": "code",
      "execution_count": null,
      "metadata": {
        "id": "wz21SYvlDXhm",
        "outputId": "3e91a559-92c1-43a1-9678-c6900413f95a"
      },
      "outputs": [
        {
          "data": {
            "text/plain": [
              "-0.0015782389853555567"
            ]
          },
          "execution_count": 19,
          "metadata": {},
          "output_type": "execute_result"
        }
      ],
      "source": [
        "# Calculate the actual difference (obs_diff) between the conversion rates for the two groups.\n",
        "obs_diff = treatment_prop - control_prop\n",
        "obs_diff"
      ]
    },
    {
      "cell_type": "markdown",
      "metadata": {
        "id": "AZECbBmdDXhn"
      },
      "source": [
        "**d.** What is the probability that an individual received the new page?"
      ]
    },
    {
      "cell_type": "code",
      "execution_count": null,
      "metadata": {
        "id": "dtk3ExW1DXhp",
        "outputId": "abf64122-ad06-4584-f5c0-7b1319b043ed"
      },
      "outputs": [
        {
          "data": {
            "text/plain": [
              "0.5000619442226688"
            ]
          },
          "execution_count": 20,
          "metadata": {},
          "output_type": "execute_result"
        }
      ],
      "source": [
        "df2.query(\"landing_page == 'new_page'\")[\"landing_page\"].count() / df2[\"landing_page\"].count()"
      ]
    },
    {
      "cell_type": "markdown",
      "metadata": {
        "id": "AY8OxRkrDXhr"
      },
      "source": [
        "**e.** Consider your results from parts (a) through (d) above, and explain below whether the new `treatment` group users lead to more conversions."
      ]
    },
    {
      "attachments": {},
      "cell_type": "markdown",
      "metadata": {
        "id": "mIJrX--FDXhs"
      },
      "source": [
        ">**The control group shows a higher conversion rate than the treatment group (0.1204) > (0.119), But regardless we can't take this as a sufficient evidence that the new treatment group is leading to more conversions .**"
      ]
    },
    {
      "cell_type": "markdown",
      "metadata": {
        "id": "1HvjYunXDXht"
      },
      "source": [
        "<a id='ab_test'></a>\n",
        "## Part II - A/B Test\n",
        "\n",
        "Since a timestamp is associated with each event, you could run a hypothesis test continuously as long as you observe the events. \n",
        "\n",
        "However, then the hard questions would be: \n",
        "- Do you stop as soon as one page is considered significantly better than another or does it need to happen consistently for a certain amount of time?  \n",
        "- How long do you run to render a decision that neither page is better than another?  \n",
        "\n",
        "These questions are the difficult parts associated with A/B tests in general.  \n",
        "\n",
        "\n",
        "### ToDo 2.1\n",
        "For now, consider you need to make the decision just based on all the data provided.  \n",
        "\n",
        "> Recall that you just calculated that the \"converted\" probability (or rate) for the old page is *slightly* higher than that of the new page (ToDo 1.4.c). \n",
        "\n",
        "If you want to assume that the old page is better unless the new page proves to be definitely better at a Type I error rate of 5%, what should be your null and alternative hypotheses (**$H_0$** and **$H_1$**)?  \n",
        "\n",
        "You can state your hypothesis in terms of words or in terms of **$p_{old}$** and **$p_{new}$**, which are the \"converted\" probability (or rate) for the old and new pages respectively."
      ]
    },
    {
      "cell_type": "markdown",
      "metadata": {
        "id": "H52Si3RwDXhv"
      },
      "source": [
        "<math xmlns=\"http://www.w3.org/1998/Math/MathML\" display=\"block\">\n",
        "  <msub>\n",
        "    <mi>H</mi>\n",
        "    <mn>0</mn>\n",
        "  </msub>\n",
        "  <mo>:</mo>\n",
        "  <msub>\n",
        "    <mi>p</mi>\n",
        "    <mrow data-mjx-texclass=\"ORD\">\n",
        "      <mi>n</mi>\n",
        "      <mi>e</mi>\n",
        "      <mi>w</mi>\n",
        "    </mrow>\n",
        "  </msub>\n",
        "  <mo>&#x2264;</mo>\n",
        "  <msub>\n",
        "    <mi>p</mi>\n",
        "    <mrow data-mjx-texclass=\"ORD\">\n",
        "      <mi>o</mi>\n",
        "      <mi>l</mi>\n",
        "      <mi>d</mi>\n",
        "    </mrow>\n",
        "  </msub>\n",
        "</math>\n",
        "<math xmlns=\"http://www.w3.org/1998/Math/MathML\" display=\"block\">\n",
        "  <msub>\n",
        "    <mi>H</mi>\n",
        "    <mn>1</mn>\n",
        "  </msub>\n",
        "  <mo>:</mo>\n",
        "  <msub>\n",
        "    <mi>p</mi>\n",
        "    <mrow data-mjx-texclass=\"ORD\">\n",
        "      <mi>n</mi>\n",
        "      <mi>e</mi>\n",
        "      <mi>w</mi>\n",
        "    </mrow>\n",
        "  </msub>\n",
        "  <mo>&gt;</mo>\n",
        "  <msub>\n",
        "    <mi>p</mi>\n",
        "    <mrow data-mjx-texclass=\"ORD\">\n",
        "      <mi>o</mi>\n",
        "      <mi>l</mi>\n",
        "      <mi>d</mi>\n",
        "    </mrow>\n",
        "  </msub>\n",
        "</math>"
      ]
    },
    {
      "cell_type": "markdown",
      "metadata": {
        "id": "R6LHWJtxDXhx"
      },
      "source": [
        "### ToDo 2.2 - Null Hypothesis $H_0$ Testing\n",
        "Under the null hypothesis $H_0$, assume that $p_{new}$ and $p_{old}$ are equal. Furthermore, assume that $p_{new}$ and $p_{old}$ both are equal to the **converted** success rate in the `df2` data regardless of the page. So, our assumption is: <br><br>\n",
        "<center>\n",
        "$p_{new}$ = $p_{old}$ = $p_{population}$\n",
        "</center>\n",
        "\n",
        "In this section, you will: \n",
        "\n",
        "- Simulate (bootstrap) sample data set for both groups, and compute the  \"converted\" probability $p$ for those samples. \n",
        "\n",
        "\n",
        "- Use a sample size for each group equal to the ones in the `df2` data.\n",
        "\n",
        "\n",
        "- Compute the difference in the \"converted\" probability for the two samples above. \n",
        "\n",
        "\n",
        "- Perform the sampling distribution for the \"difference in the converted probability\" between the two simulated-samples over 10,000 iterations; and calculate an estimate. \n",
        "\n",
        "\n",
        "\n",
        "Use the cells below to provide the necessary parts of this simulation.  You can use **Quiz 5** in the classroom to make sure you are on the right track."
      ]
    },
    {
      "cell_type": "markdown",
      "metadata": {
        "id": "-CPY9ivVDXhy"
      },
      "source": [
        "**a.** What is the **conversion rate** for $p_{new}$ under the null hypothesis? "
      ]
    },
    {
      "cell_type": "code",
      "execution_count": null,
      "metadata": {
        "id": "QqWFLzKGDXhz",
        "outputId": "4edff993-1f1f-4819-bed0-b0cdbd0958a0"
      },
      "outputs": [
        {
          "data": {
            "text/plain": [
              "0.11959708724499628"
            ]
          },
          "execution_count": 21,
          "metadata": {},
          "output_type": "execute_result"
        }
      ],
      "source": [
        "p_new = df2[\"converted\"].mean()\n",
        "p_new"
      ]
    },
    {
      "cell_type": "markdown",
      "metadata": {
        "id": "qB7Bgv2eDXh1"
      },
      "source": [
        "**b.** What is the **conversion rate** for $p_{old}$ under the null hypothesis? "
      ]
    },
    {
      "cell_type": "code",
      "execution_count": null,
      "metadata": {
        "id": "Ps7GpuNUDXh2",
        "outputId": "af0c6b44-6f1f-4c08-92f5-751d5e2c7760"
      },
      "outputs": [
        {
          "data": {
            "text/plain": [
              "0.11959708724499628"
            ]
          },
          "execution_count": 22,
          "metadata": {},
          "output_type": "execute_result"
        }
      ],
      "source": [
        "p_old = df2[\"converted\"].mean()\n",
        "p_old"
      ]
    },
    {
      "cell_type": "code",
      "execution_count": null,
      "metadata": {
        "id": "l3fUYEkSDXh3",
        "outputId": "d9ed75e6-2ca6-41af-efd1-361cbf198446"
      },
      "outputs": [
        {
          "data": {
            "text/plain": [
              "0.0"
            ]
          },
          "execution_count": 23,
          "metadata": {},
          "output_type": "execute_result"
        }
      ],
      "source": [
        "p_new - p_old"
      ]
    },
    {
      "cell_type": "markdown",
      "metadata": {
        "id": "h8CVVRMVDXiA"
      },
      "source": [
        "**c.** What is $n_{new}$, the number of individuals in the treatment group? <br><br>\n",
        "*Hint*: The treatment group users are shown the new page."
      ]
    },
    {
      "cell_type": "code",
      "execution_count": null,
      "metadata": {
        "id": "5KVjgeBrDXiE",
        "outputId": "65acb10d-fc02-4864-b195-f3db35b55d0d"
      },
      "outputs": [
        {
          "data": {
            "text/plain": [
              "145310"
            ]
          },
          "execution_count": 24,
          "metadata": {},
          "output_type": "execute_result"
        }
      ],
      "source": [
        "n_new = df2.query(\"group == 'treatment'\")[\"user_id\"].count()\n",
        "n_new "
      ]
    },
    {
      "cell_type": "markdown",
      "metadata": {
        "id": "6GntX0hmDXiH"
      },
      "source": [
        "**d.** What is $n_{old}$, the number of individuals in the control group?"
      ]
    },
    {
      "cell_type": "code",
      "execution_count": null,
      "metadata": {
        "id": "tgCFlzUiDXiR",
        "outputId": "b51822c5-a597-444a-834f-cf40ae4e4c1f"
      },
      "outputs": [
        {
          "data": {
            "text/plain": [
              "145274"
            ]
          },
          "execution_count": 25,
          "metadata": {},
          "output_type": "execute_result"
        }
      ],
      "source": [
        "n_old = df2.query(\"group == 'control'\")[\"user_id\"].count()\n",
        "n_old "
      ]
    },
    {
      "cell_type": "markdown",
      "metadata": {
        "id": "yOTHByDZDXiS"
      },
      "source": [
        "**e. Simulate Sample for the `treatment` Group**<br> \n",
        "Simulate $n_{new}$ transactions with a conversion rate of $p_{new}$ under the null hypothesis.  <br><br>\n",
        "*Hint*: Use `numpy.random.choice()` method to randomly generate $n_{new}$ number of values. <br>\n",
        "Store these $n_{new}$ 1's and 0's in the `new_page_converted` numpy array.\n"
      ]
    },
    {
      "cell_type": "code",
      "execution_count": null,
      "metadata": {
        "id": "lCmDQ-YlDXiU",
        "outputId": "04da22aa-dd13-4f42-ba99-e2477793a8d9"
      },
      "outputs": [
        {
          "data": {
            "text/plain": [
              "array([0, 0, 0, ..., 0, 0, 0])"
            ]
          },
          "execution_count": 26,
          "metadata": {},
          "output_type": "execute_result"
        }
      ],
      "source": [
        "# Simulate a Sample for the treatment Group\n",
        "new_page_converted = np.random.choice([1, 0], p = [p_new, 1-p_new], size = n_new)\n",
        "new_page_converted"
      ]
    },
    {
      "cell_type": "markdown",
      "metadata": {
        "id": "8gSkw9PwDXid"
      },
      "source": [
        "**f. Simulate Sample for the `control` Group** <br>\n",
        "Simulate $n_{old}$ transactions with a conversion rate of $p_{old}$ under the null hypothesis. <br> Store these $n_{old}$ 1's and 0's in the `old_page_converted` numpy array."
      ]
    },
    {
      "cell_type": "code",
      "execution_count": null,
      "metadata": {
        "id": "H6WLM58sDXih",
        "outputId": "759ff6c0-77ae-4f4b-8d77-c33c763cf991"
      },
      "outputs": [
        {
          "data": {
            "text/plain": [
              "array([0, 0, 0, ..., 1, 1, 0])"
            ]
          },
          "execution_count": 27,
          "metadata": {},
          "output_type": "execute_result"
        }
      ],
      "source": [
        "# Simulate a Sample for the control Group\n",
        "old_page_converted = np.random.choice([1, 0], p = [p_old, 1-p_old], size = n_old)\n",
        "old_page_converted"
      ]
    },
    {
      "cell_type": "markdown",
      "metadata": {
        "id": "VRPfLma9DXij"
      },
      "source": [
        "**g.** Find the difference in the \"converted\" probability $(p{'}_{new}$ - $p{'}_{old})$ for your simulated samples from the parts (e) and (f) above. "
      ]
    },
    {
      "cell_type": "code",
      "execution_count": null,
      "metadata": {
        "id": "8T3berF4DXim",
        "outputId": "bcd1cfe9-cba9-4382-ea5e-8da778f8c475"
      },
      "outputs": [
        {
          "data": {
            "text/plain": [
              "0.0010027387827464818"
            ]
          },
          "execution_count": 28,
          "metadata": {},
          "output_type": "execute_result"
        }
      ],
      "source": [
        "difference = new_page_converted.mean() - old_page_converted.mean()\n",
        "difference"
      ]
    },
    {
      "cell_type": "markdown",
      "metadata": {
        "id": "mu_nOr5MDXiq"
      },
      "source": [
        "\n",
        "**h. Sampling distribution** <br>\n",
        "Re-create `new_page_converted` and `old_page_converted` and find the $(p{'}_{new}$ - $p{'}_{old})$ value 10,000 times using the same simulation process you used in parts (a) through (g) above. \n",
        "\n",
        "<br>\n",
        "Store all  $(p{'}_{new}$ - $p{'}_{old})$  values in a NumPy array called `p_diffs`."
      ]
    },
    {
      "cell_type": "code",
      "execution_count": null,
      "metadata": {
        "id": "3zlZ2sCjDXi0"
      },
      "outputs": [],
      "source": [
        "# Sampling distribution \n",
        "p_diffs = []\n",
        "for _ in range(10000):\n",
        "    n_page_conv = np.random.choice([1,0], p = [p_new, 1-p_new], size = n_new)\n",
        "    o_page_conv = np.random.choice([1,0], p = [p_old, 1-p_old], size = n_old)\n",
        "    p_diffs.append(n_page_conv.mean() - o_page_conv.mean())"
      ]
    },
    {
      "cell_type": "code",
      "execution_count": null,
      "metadata": {
        "id": "cEJNEbFoDXi3"
      },
      "outputs": [],
      "source": [
        "p_diffs = np.array(p_diffs)"
      ]
    },
    {
      "cell_type": "markdown",
      "metadata": {
        "id": "CSYuRQfWDXi5"
      },
      "source": [
        "**i. Histogram**<br> \n",
        "Plot a histogram of the **p_diffs**.  Does this plot look like what you expected?  Use the matching problem in the classroom to assure you fully understand what was computed here.<br><br>\n",
        "\n",
        "Also, use `plt.axvline()` method to mark the actual difference observed  in the `df2` data (recall `obs_diff`), in the chart.  \n",
        "\n",
        ">**Tip**: Display title, x-label, and y-label in the chart."
      ]
    },
    {
      "cell_type": "code",
      "execution_count": null,
      "metadata": {
        "id": "9VlK2oxXDXjM",
        "outputId": "e673af76-f3d0-4918-d5c0-b4cf7b6db09e"
      },
      "outputs": [
        {
          "data": {
            "text/plain": [
              "<matplotlib.lines.Line2D at 0x2816d248820>"
            ]
          },
          "execution_count": 31,
          "metadata": {},
          "output_type": "execute_result"
        },
        {
          "data": {
            "image/png": "[encoded data removed]",
            "text/plain": [
              "<Figure size 432x288 with 1 Axes>"
            ]
          },
          "metadata": {
            "needs_background": "light"
          },
          "output_type": "display_data"
        }
      ],
      "source": [
        "plt.hist(p_diffs);\n",
        "plt.axvline(obs_diff, c = \"r\")"
      ]
    },
    {
      "cell_type": "markdown",
      "metadata": {
        "id": "N4GNYBB2DXjY"
      },
      "source": [
        "**j.** What proportion of the **p_diffs** are greater than the actual difference observed in the `df2` data?"
      ]
    },
    {
      "cell_type": "code",
      "execution_count": null,
      "metadata": {
        "id": "pO9ZE0mCDXjc",
        "outputId": "eec888cc-5472-4798-c8ee-a8eb4b69355b"
      },
      "outputs": [
        {
          "data": {
            "text/plain": [
              "0.9074"
            ]
          },
          "execution_count": 32,
          "metadata": {},
          "output_type": "execute_result"
        }
      ],
      "source": [
        "(p_diffs > obs_diff).mean()"
      ]
    },
    {
      "cell_type": "markdown",
      "metadata": {
        "id": "t0_tTJ-3DXjh"
      },
      "source": [
        "**k.** Please explain in words what you have just computed in part **j** above.  \n",
        " - What is this value called in scientific studies?  \n",
        " - What does this value signify in terms of whether or not there is a difference between the new and old pages? *Hint*: Compare the value above with the \"Type I error rate (0.05)\". "
      ]
    },
    {
      "cell_type": "markdown",
      "metadata": {
        "id": "tNzUtthpDXjq"
      },
      "source": [
        ">**It's called the p-value, which is given when observing if the null hypothesis is true and if it's large we can say that \"we fail to reject the null hypothesis\"**\n",
        "\n",
        ">**If the p-value is lower than 0.05 we reject the null hypothesis, but we fail to reject is as in this case the p-value is greater than 0.05 (0.9012)**"
      ]
    },
    {
      "cell_type": "markdown",
      "metadata": {
        "id": "0poK0TlCDXjs"
      },
      "source": [
        "\n",
        "\n",
        "**l. Using Built-in Methods for Hypothesis Testing**<br>\n",
        "We could also use a built-in to achieve similar results.  Though using the built-in might be easier to code, the above portions are a walkthrough of the ideas that are critical to correctly thinking about statistical significance. \n",
        "\n",
        "Fill in the statements below to calculate the:\n",
        "- `convert_old`: number of conversions with the old_page\n",
        "- `convert_new`: number of conversions with the new_page\n",
        "- `n_old`: number of individuals who were shown the old_page\n",
        "- `n_new`: number of individuals who were shown the new_page\n"
      ]
    },
    {
      "cell_type": "code",
      "execution_count": null,
      "metadata": {
        "id": "OpneCi_VDXju"
      },
      "outputs": [],
      "source": [
        "import statsmodels.api as sm\n",
        "\n",
        "# number of conversions with the old_page\n",
        "convert_old = df2.query(\"landing_page == 'old_page'\")[\"converted\"].sum()\n",
        "\n",
        "# number of conversions with the new_page\n",
        "convert_new =  df2.query(\"landing_page == 'new_page'\")[\"converted\"].sum()\n",
        "\n",
        "# number of individuals who were shown the old_page\n",
        "n_old = len(df2.query(\"group == 'control'\"))\n",
        "\n",
        "# number of individuals who received new_page\n",
        "n_new = len(df2.query(\"group == 'treatment'\"))"
      ]
    },
    {
      "cell_type": "markdown",
      "metadata": {
        "id": "p1LFOAx9DXjw"
      },
      "source": [
        "**m.** Now use `sm.stats.proportions_ztest()` to compute your test statistic and p-value.  [Here](https://www.statsmodels.org/stable/generated/statsmodels.stats.proportion.proportions_ztest.html) is a helpful link on using the built in.\n",
        "\n",
        "The syntax is: \n",
        "```bash\n",
        "proportions_ztest(count_array, nobs_array, alternative='larger')\n",
        "```\n",
        "where, \n",
        "- `count_array` = represents the number of \"converted\" for each group\n",
        "- `nobs_array` = represents the total number of observations (rows) in each group\n",
        "- `alternative` = choose one of the values from `[‘two-sided’, ‘smaller’, ‘larger’]` depending upon two-tailed, left-tailed, or right-tailed respectively. \n",
        ">**Hint**: <br>\n",
        "It's a two-tailed if you defined $H_1$ as $(p_{new} = p_{old})$. <br>\n",
        "It's a left-tailed if you defined $H_1$ as $(p_{new} < p_{old})$. <br>\n",
        "It's a right-tailed if you defined $H_1$ as $(p_{new} > p_{old})$. \n",
        "\n",
        "The built-in function above will return the z_score, p_value. \n",
        "\n",
        "---\n",
        "### About the two-sample z-test\n",
        "Recall that you have plotted a distribution `p_diffs` representing the\n",
        "difference in the \"converted\" probability  $(p{'}_{new}-p{'}_{old})$  for your two simulated samples 10,000 times. \n",
        "\n",
        "Another way for comparing the mean of two independent and normal distribution is a **two-sample z-test**. You can perform the Z-test to calculate the Z_score, as shown in the equation below:\n",
        "\n",
        "$$\n",
        "Z_{score} = \\frac{ (p{'}_{new}-p{'}_{old}) - (p_{new}  -  p_{old})}{ \\sqrt{ \\frac{\\sigma^{2}_{new} }{n_{new}} + \\frac{\\sigma^{2}_{old} }{n_{old}}  } }\n",
        "$$\n",
        "\n",
        "where,\n",
        "- $p{'}$ is the \"converted\" success rate in the sample\n",
        "- $p_{new}$ and $p_{old}$ are the \"converted\" success rate for the two groups in the population. \n",
        "- $\\sigma_{new}$ and $\\sigma_{new}$ are the standard deviation for the two groups in the population. \n",
        "- $n_{new}$ and $n_{old}$ represent the size of the two groups or samples (it's same in our case)\n",
        "\n",
        "\n",
        ">Z-test is performed when the sample size is large, and the population variance is known. The z-score represents the distance between the two \"converted\" success rates in terms of the standard error. \n",
        "\n",
        "Next step is to make a decision to reject or fail to reject the null hypothesis based on comparing these two values: \n",
        "- $Z_{score}$\n",
        "- $Z_{\\alpha}$ or $Z_{0.05}$, also known as critical value at 95% confidence interval.  $Z_{0.05}$ is 1.645 for one-tailed tests,  and 1.960 for two-tailed test. You can determine the $Z_{\\alpha}$ from the z-table manually. \n",
        "\n",
        "Decide if your hypothesis is either a two-tailed, left-tailed, or right-tailed test. Accordingly, reject OR fail to reject the  null based on the comparison between $Z_{score}$ and $Z_{\\alpha}$. \n",
        ">Hint:<br>\n",
        "For a right-tailed test, reject null if $Z_{score}$ > $Z_{\\alpha}$. <br>\n",
        "For a left-tailed test, reject null if $Z_{score}$ < $Z_{\\alpha}$. \n",
        "\n",
        "\n",
        "In other words, we determine whether or not the $Z_{score}$ lies in the \"rejection region\" in the distribution. A \"rejection region\" is an interval where the null hypothesis is rejected iff the $Z_{score}$ lies in that region.\n",
        "\n",
        "\n",
        "\n",
        "Reference: \n",
        "- Example 9.1.2 on this [page](https://stats.libretexts.org/Bookshelves/Introductory_Statistics/Book%3A_Introductory_Statistics_(Shafer_and_Zhang)/09%3A_Two-Sample_Problems/9.01%3A_Comparison_of_Two_Population_Means-_Large_Independent_Samples), courtesy www.stats.libretexts.org\n",
        "\n",
        "---\n",
        "\n",
        ">**Tip**: You don't have to dive deeper into z-test for this exercise. **Try having an overview of what does z-score signify in general.** "
      ]
    },
    {
      "cell_type": "code",
      "execution_count": null,
      "metadata": {
        "id": "eb659EJkDXkI",
        "outputId": "cf1278f7-88c5-4326-b53f-e80c67554b14"
      },
      "outputs": [
        {
          "name": "stdout",
          "output_type": "stream",
          "text": [
            "-1.3109241984234394 0.9050583127590245\n"
          ]
        }
      ],
      "source": [
        "import statsmodels.api as sm\n",
        "# ToDo: Complete the sm.stats.proportions_ztest() method arguments\n",
        "z_score, p_value = sm.stats.proportions_ztest([convert_new, convert_old], [n_new, n_old], alternative = \"larger\")\n",
        "print(z_score, p_value)"
      ]
    },
    {
      "cell_type": "markdown",
      "metadata": {
        "id": "w7JsIbTQDXkK"
      },
      "source": [
        "**n.** What do the z-score and p-value you computed in the previous question mean for the conversion rates of the old and new pages?  Do they agree with the findings in parts **j.** and **k.**?<br><br>\n",
        "\n",
        ">**Tip**: Notice whether the p-value is similar to the one computed earlier. Accordingly, can you reject/fail to reject the null hypothesis? It is important to correctly interpret the test statistic and p-value."
      ]
    },
    {
      "cell_type": "markdown",
      "metadata": {
        "id": "m9PZHxd2DXkL"
      },
      "source": [
        ">**The calculated z-score(-1.310) and p-value(0.905) are consistent with the one we calculated before(0.9012), which suggests failing to reject the null hypothesis**"
      ]
    },
    {
      "cell_type": "markdown",
      "metadata": {
        "id": "bdfhatW4DXkM"
      },
      "source": [
        "<a id='regression'></a>\n",
        "### Part III - A regression approach\n",
        "\n",
        "### ToDo 3.1 \n",
        "In this final part, you will see that the result you achieved in the A/B test in Part II above can also be achieved by performing regression.<br><br> \n",
        "\n",
        "**a.** Since each row in the `df2` data is either a conversion or no conversion, what type of regression should you be performing in this case?"
      ]
    },
    {
      "cell_type": "markdown",
      "metadata": {
        "id": "vj4GooA4DXkN"
      },
      "source": [
        ">**A Logistic Regression Approach**"
      ]
    },
    {
      "cell_type": "markdown",
      "metadata": {
        "id": "fDcwZ2jpDXkO"
      },
      "source": [
        "**b.** The goal is to use **statsmodels** library to fit the regression model you specified in part **a.** above to see if there is a significant difference in conversion based on the page-type a customer receives. However, you first need to create the following two columns in the `df2` dataframe:\n",
        " 1. `intercept` - It should be `1` in the entire column. \n",
        " 2. `ab_page` - It's a dummy variable column, having a value `1` when an individual receives the **treatment**, otherwise `0`.  "
      ]
    },
    {
      "cell_type": "code",
      "execution_count": null,
      "metadata": {
        "id": "QtwyoKMmDXkP",
        "outputId": "b9987267-7b96-4aa0-9656-d30b6c6c7801"
      },
      "outputs": [
        {
          "data": {
            "text/html": [
              "<div>\n",
              "<style scoped>\n",
              "    .dataframe tbody tr th:only-of-type {\n",
              "        vertical-align: middle;\n",
              "    }\n",
              "\n",
              "    .dataframe tbody tr th {\n",
              "        vertical-align: top;\n",
              "    }\n",
              "\n",
              "    .dataframe thead th {\n",
              "        text-align: right;\n",
              "    }\n",
              "</style>\n",
              "<table border=\"1\" class=\"dataframe\">\n",
              "  <thead>\n",
              "    <tr style=\"text-align: right;\">\n",
              "      <th></th>\n",
              "      <th>user_id</th>\n",
              "      <th>timestamp</th>\n",
              "      <th>group</th>\n",
              "      <th>landing_page</th>\n",
              "      <th>converted</th>\n",
              "      <th>intercept</th>\n",
              "      <th>control</th>\n",
              "      <th>ab_page</th>\n",
              "    </tr>\n",
              "  </thead>\n",
              "  <tbody>\n",
              "    <tr>\n",
              "      <th>0</th>\n",
              "      <td>851104</td>\n",
              "      <td>2017-01-21 22:11:48.556739</td>\n",
              "      <td>control</td>\n",
              "      <td>old_page</td>\n",
              "      <td>0</td>\n",
              "      <td>1</td>\n",
              "      <td>1</td>\n",
              "      <td>0</td>\n",
              "    </tr>\n",
              "    <tr>\n",
              "      <th>1</th>\n",
              "      <td>804228</td>\n",
              "      <td>2017-01-12 08:01:45.159739</td>\n",
              "      <td>control</td>\n",
              "      <td>old_page</td>\n",
              "      <td>0</td>\n",
              "      <td>1</td>\n",
              "      <td>1</td>\n",
              "      <td>0</td>\n",
              "    </tr>\n",
              "    <tr>\n",
              "      <th>2</th>\n",
              "      <td>661590</td>\n",
              "      <td>2017-01-11 16:55:06.154213</td>\n",
              "      <td>treatment</td>\n",
              "      <td>new_page</td>\n",
              "      <td>0</td>\n",
              "      <td>1</td>\n",
              "      <td>0</td>\n",
              "      <td>1</td>\n",
              "    </tr>\n",
              "    <tr>\n",
              "      <th>3</th>\n",
              "      <td>853541</td>\n",
              "      <td>2017-01-08 18:28:03.143765</td>\n",
              "      <td>treatment</td>\n",
              "      <td>new_page</td>\n",
              "      <td>0</td>\n",
              "      <td>1</td>\n",
              "      <td>0</td>\n",
              "      <td>1</td>\n",
              "    </tr>\n",
              "    <tr>\n",
              "      <th>4</th>\n",
              "      <td>864975</td>\n",
              "      <td>2017-01-21 01:52:26.210827</td>\n",
              "      <td>control</td>\n",
              "      <td>old_page</td>\n",
              "      <td>1</td>\n",
              "      <td>1</td>\n",
              "      <td>1</td>\n",
              "      <td>0</td>\n",
              "    </tr>\n",
              "  </tbody>\n",
              "</table>\n",
              "</div>"
            ],
            "text/plain": [
              "   user_id                   timestamp      group landing_page  converted  \\\n",
              "0   851104  2017-01-21 22:11:48.556739    control     old_page          0   \n",
              "1   804228  2017-01-12 08:01:45.159739    control     old_page          0   \n",
              "2   661590  2017-01-11 16:55:06.154213  treatment     new_page          0   \n",
              "3   853541  2017-01-08 18:28:03.143765  treatment     new_page          0   \n",
              "4   864975  2017-01-21 01:52:26.210827    control     old_page          1   \n",
              "\n",
              "   intercept  control  ab_page  \n",
              "0          1        1        0  \n",
              "1          1        1        0  \n",
              "2          1        0        1  \n",
              "3          1        0        1  \n",
              "4          1        1        0  "
            ]
          },
          "execution_count": 35,
          "metadata": {},
          "output_type": "execute_result"
        }
      ],
      "source": [
        "# Adding the intercept column\n",
        "df2[\"intercept\"] = 1\n",
        "\n",
        "# Creating the ab_page column along with a control column to catch both values of group(control, treatment), dropping the control column later\n",
        "df2[[\"control\", \"ab_page\"]] = pd.get_dummies(df2[\"group\"])\n",
        "df2.head()"
      ]
    },
    {
      "cell_type": "code",
      "execution_count": null,
      "metadata": {
        "id": "YckLCJCJDXkQ",
        "outputId": "8a730145-12f8-4512-f1cc-baf127c17a6b"
      },
      "outputs": [
        {
          "data": {
            "text/html": [
              "<div>\n",
              "<style scoped>\n",
              "    .dataframe tbody tr th:only-of-type {\n",
              "        vertical-align: middle;\n",
              "    }\n",
              "\n",
              "    .dataframe tbody tr th {\n",
              "        vertical-align: top;\n",
              "    }\n",
              "\n",
              "    .dataframe thead th {\n",
              "        text-align: right;\n",
              "    }\n",
              "</style>\n",
              "<table border=\"1\" class=\"dataframe\">\n",
              "  <thead>\n",
              "    <tr style=\"text-align: right;\">\n",
              "      <th></th>\n",
              "      <th>user_id</th>\n",
              "      <th>timestamp</th>\n",
              "      <th>group</th>\n",
              "      <th>landing_page</th>\n",
              "      <th>converted</th>\n",
              "      <th>intercept</th>\n",
              "      <th>ab_page</th>\n",
              "    </tr>\n",
              "  </thead>\n",
              "  <tbody>\n",
              "    <tr>\n",
              "      <th>0</th>\n",
              "      <td>851104</td>\n",
              "      <td>2017-01-21 22:11:48.556739</td>\n",
              "      <td>control</td>\n",
              "      <td>old_page</td>\n",
              "      <td>0</td>\n",
              "      <td>1</td>\n",
              "      <td>0</td>\n",
              "    </tr>\n",
              "    <tr>\n",
              "      <th>1</th>\n",
              "      <td>804228</td>\n",
              "      <td>2017-01-12 08:01:45.159739</td>\n",
              "      <td>control</td>\n",
              "      <td>old_page</td>\n",
              "      <td>0</td>\n",
              "      <td>1</td>\n",
              "      <td>0</td>\n",
              "    </tr>\n",
              "    <tr>\n",
              "      <th>2</th>\n",
              "      <td>661590</td>\n",
              "      <td>2017-01-11 16:55:06.154213</td>\n",
              "      <td>treatment</td>\n",
              "      <td>new_page</td>\n",
              "      <td>0</td>\n",
              "      <td>1</td>\n",
              "      <td>1</td>\n",
              "    </tr>\n",
              "    <tr>\n",
              "      <th>3</th>\n",
              "      <td>853541</td>\n",
              "      <td>2017-01-08 18:28:03.143765</td>\n",
              "      <td>treatment</td>\n",
              "      <td>new_page</td>\n",
              "      <td>0</td>\n",
              "      <td>1</td>\n",
              "      <td>1</td>\n",
              "    </tr>\n",
              "    <tr>\n",
              "      <th>4</th>\n",
              "      <td>864975</td>\n",
              "      <td>2017-01-21 01:52:26.210827</td>\n",
              "      <td>control</td>\n",
              "      <td>old_page</td>\n",
              "      <td>1</td>\n",
              "      <td>1</td>\n",
              "      <td>0</td>\n",
              "    </tr>\n",
              "  </tbody>\n",
              "</table>\n",
              "</div>"
            ],
            "text/plain": [
              "   user_id                   timestamp      group landing_page  converted  \\\n",
              "0   851104  2017-01-21 22:11:48.556739    control     old_page          0   \n",
              "1   804228  2017-01-12 08:01:45.159739    control     old_page          0   \n",
              "2   661590  2017-01-11 16:55:06.154213  treatment     new_page          0   \n",
              "3   853541  2017-01-08 18:28:03.143765  treatment     new_page          0   \n",
              "4   864975  2017-01-21 01:52:26.210827    control     old_page          1   \n",
              "\n",
              "   intercept  ab_page  \n",
              "0          1        0  \n",
              "1          1        0  \n",
              "2          1        1  \n",
              "3          1        1  \n",
              "4          1        0  "
            ]
          },
          "execution_count": 36,
          "metadata": {},
          "output_type": "execute_result"
        }
      ],
      "source": [
        "# Dropping the control column as it's not needed (presented in the ab_page columns as \"0\")\n",
        "df2.drop(\"control\", axis = 1, inplace = True)\n",
        "df2.head()"
      ]
    },
    {
      "cell_type": "markdown",
      "metadata": {
        "id": "4mZ8aBDJDXkW"
      },
      "source": [
        "**c.** Use **statsmodels** to instantiate your regression model on the two columns you created in part (b). above, then fit the model to predict whether or not an individual converts. \n"
      ]
    },
    {
      "cell_type": "code",
      "execution_count": null,
      "metadata": {
        "id": "nRpv-Po4DXkb"
      },
      "outputs": [],
      "source": [
        "import statsmodels.api as sm\n",
        "mod = sm.Logit(df2[\"converted\"], df2[[\"intercept\", \"ab_page\"]])"
      ]
    },
    {
      "cell_type": "markdown",
      "metadata": {
        "id": "OOMPqzasDXke"
      },
      "source": [
        "**d.** Provide the summary of your model below, and use it as necessary to answer the following questions."
      ]
    },
    {
      "cell_type": "code",
      "execution_count": null,
      "metadata": {
        "id": "sNqz98VkDXkf",
        "outputId": "835b9e74-3fc0-4d37-de41-5347ecf83dc7"
      },
      "outputs": [
        {
          "name": "stdout",
          "output_type": "stream",
          "text": [
            "Optimization terminated successfully.\n",
            "         Current function value: 0.366118\n",
            "         Iterations 6\n"
          ]
        },
        {
          "data": {
            "text/html": [
              "<table class=\"simpletable\">\n",
              "<tr>\n",
              "        <td>Model:</td>              <td>Logit</td>      <td>Pseudo R-squared:</td>    <td>0.000</td>   \n",
              "</tr>\n",
              "<tr>\n",
              "  <td>Dependent Variable:</td>     <td>converted</td>          <td>AIC:</td>        <td>212780.3502</td>\n",
              "</tr>\n",
              "<tr>\n",
              "         <td>Date:</td>        <td>2021-11-20 02:18</td>       <td>BIC:</td>        <td>212801.5095</td>\n",
              "</tr>\n",
              "<tr>\n",
              "   <td>No. Observations:</td>       <td>290584</td>       <td>Log-Likelihood:</td>  <td>-1.0639e+05</td>\n",
              "</tr>\n",
              "<tr>\n",
              "       <td>Df Model:</td>              <td>1</td>            <td>LL-Null:</td>      <td>-1.0639e+05</td>\n",
              "</tr>\n",
              "<tr>\n",
              "     <td>Df Residuals:</td>         <td>290582</td>        <td>LLR p-value:</td>      <td>0.18988</td>  \n",
              "</tr>\n",
              "<tr>\n",
              "      <td>Converged:</td>           <td>1.0000</td>           <td>Scale:</td>         <td>1.0000</td>   \n",
              "</tr>\n",
              "<tr>\n",
              "    <td>No. Iterations:</td>        <td>6.0000</td>              <td></td>               <td></td>      \n",
              "</tr>\n",
              "</table>\n",
              "<table class=\"simpletable\">\n",
              "<tr>\n",
              "      <td></td>       <th>Coef.</th>  <th>Std.Err.</th>     <th>z</th>      <th>P>|z|</th> <th>[0.025</th>  <th>0.975]</th> \n",
              "</tr>\n",
              "<tr>\n",
              "  <th>intercept</th> <td>-1.9888</td>  <td>0.0081</td>  <td>-246.6690</td> <td>0.0000</td> <td>-2.0046</td> <td>-1.9730</td>\n",
              "</tr>\n",
              "<tr>\n",
              "  <th>ab_page</th>   <td>-0.0150</td>  <td>0.0114</td>   <td>-1.3109</td>  <td>0.1899</td> <td>-0.0374</td> <td>0.0074</td> \n",
              "</tr>\n",
              "</table>"
            ],
            "text/plain": [
              "<class 'statsmodels.iolib.summary2.Summary'>\n",
              "\"\"\"\n",
              "                          Results: Logit\n",
              "==================================================================\n",
              "Model:              Logit            Pseudo R-squared: 0.000      \n",
              "Dependent Variable: converted        AIC:              212780.3502\n",
              "Date:               2021-11-20 02:18 BIC:              212801.5095\n",
              "No. Observations:   290584           Log-Likelihood:   -1.0639e+05\n",
              "Df Model:           1                LL-Null:          -1.0639e+05\n",
              "Df Residuals:       290582           LLR p-value:      0.18988    \n",
              "Converged:          1.0000           Scale:            1.0000     \n",
              "No. Iterations:     6.0000                                        \n",
              "-------------------------------------------------------------------\n",
              "              Coef.   Std.Err.      z      P>|z|    [0.025   0.975]\n",
              "-------------------------------------------------------------------\n",
              "intercept    -1.9888    0.0081  -246.6690  0.0000  -2.0046  -1.9730\n",
              "ab_page      -0.0150    0.0114    -1.3109  0.1899  -0.0374   0.0074\n",
              "==================================================================\n",
              "\n",
              "\"\"\""
            ]
          },
          "execution_count": 38,
          "metadata": {},
          "output_type": "execute_result"
        }
      ],
      "source": [
        "res = mod.fit()\n",
        "res.summary2()"
      ]
    },
    {
      "cell_type": "markdown",
      "metadata": {
        "id": "oUIsH1GFDXkg"
      },
      "source": [
        "**e.** What is the p-value associated with **ab_page**? Why does it differ from the value you found in **Part II**?<br><br>  \n",
        "\n",
        "**Hints**: \n",
        "- What are the null and alternative hypotheses associated with your regression model, and how do they compare to the null and alternative hypotheses in **Part II**? \n",
        "- You may comment on if these hypothesis (Part II vs. Part III) are one-sided or two-sided. \n",
        "- You may also compare the current p-value with the Type I error rate (0.05).\n"
      ]
    },
    {
      "attachments": {},
      "cell_type": "markdown",
      "metadata": {
        "id": "ofkdN8LgDXki"
      },
      "source": [
        ">**The null hypothesis of the regression model is that there is no relationship between the exploratory variable and the response variable.**\n",
        "\n",
        ">**p-value is(0.1899), in partII we performed a one sided test, but in the regression model we performed a two sided test.**\n",
        "\n",
        ">**The regression model p-value is 0.1899 which is greater than 0.05 so there is no relationship between the variables**"
      ]
    },
    {
      "cell_type": "markdown",
      "metadata": {
        "id": "NTttvfVmDXkj"
      },
      "source": [
        "**f.** Now, you are considering other things that might influence whether or not an individual converts.  Discuss why it is a good idea to consider other factors to add into your regression model.  Are there any disadvantages to adding additional terms into your regression model?"
      ]
    },
    {
      "attachments": {},
      "cell_type": "markdown",
      "metadata": {
        "id": "OwFAmXQfDXkl"
      },
      "source": [
        ">**This is a good approach as it might reveal a new relationship / connection between variables which might be helpful to draw valuable insights.**"
      ]
    },
    {
      "cell_type": "markdown",
      "metadata": {
        "id": "g03q44_vDXkn"
      },
      "source": [
        "**g. Adding countries**<br> \n",
        "Now along with testing if the conversion rate changes for different pages, also add an effect based on which country a user lives in. \n",
        "\n",
        "1. You will need to read in the **countries.csv** dataset and merge together your `df2` datasets on the appropriate rows. You call the resulting dataframe `df_merged`. [Here](https://pandas.pydata.org/pandas-docs/stable/reference/api/pandas.DataFrame.join.html) are the docs for joining tables. \n",
        "\n",
        "2. Does it appear that country had an impact on conversion?  To answer this question, consider the three unique values, `['UK', 'US', 'CA']`, in the `country` column. Create dummy variables for these country columns. \n",
        ">**Hint:** Use `pandas.get_dummies()` to create dummy variables. **You will utilize two columns for the three dummy variables.** \n",
        "\n",
        " Provide the statistical output as well as a written response to answer this question."
      ]
    },
    {
      "cell_type": "code",
      "execution_count": null,
      "metadata": {
        "id": "GzhPT2kDDXko",
        "outputId": "6245ea83-7acf-4ed1-b0db-e7ef7c4978a4"
      },
      "outputs": [
        {
          "data": {
            "text/html": [
              "<div>\n",
              "<style scoped>\n",
              "    .dataframe tbody tr th:only-of-type {\n",
              "        vertical-align: middle;\n",
              "    }\n",
              "\n",
              "    .dataframe tbody tr th {\n",
              "        vertical-align: top;\n",
              "    }\n",
              "\n",
              "    .dataframe thead th {\n",
              "        text-align: right;\n",
              "    }\n",
              "</style>\n",
              "<table border=\"1\" class=\"dataframe\">\n",
              "  <thead>\n",
              "    <tr style=\"text-align: right;\">\n",
              "      <th></th>\n",
              "      <th>user_id</th>\n",
              "      <th>country</th>\n",
              "    </tr>\n",
              "  </thead>\n",
              "  <tbody>\n",
              "    <tr>\n",
              "      <th>0</th>\n",
              "      <td>834778</td>\n",
              "      <td>UK</td>\n",
              "    </tr>\n",
              "    <tr>\n",
              "      <th>1</th>\n",
              "      <td>928468</td>\n",
              "      <td>US</td>\n",
              "    </tr>\n",
              "    <tr>\n",
              "      <th>2</th>\n",
              "      <td>822059</td>\n",
              "      <td>UK</td>\n",
              "    </tr>\n",
              "    <tr>\n",
              "      <th>3</th>\n",
              "      <td>711597</td>\n",
              "      <td>UK</td>\n",
              "    </tr>\n",
              "    <tr>\n",
              "      <th>4</th>\n",
              "      <td>710616</td>\n",
              "      <td>UK</td>\n",
              "    </tr>\n",
              "  </tbody>\n",
              "</table>\n",
              "</div>"
            ],
            "text/plain": [
              "   user_id country\n",
              "0   834778      UK\n",
              "1   928468      US\n",
              "2   822059      UK\n",
              "3   711597      UK\n",
              "4   710616      UK"
            ]
          },
          "execution_count": 39,
          "metadata": {},
          "output_type": "execute_result"
        }
      ],
      "source": [
        "# Read the countries.csv\n",
        "df_countries = pd.read_csv(r\"countries.csv\")\n",
        "df_countries.head()"
      ]
    },
    {
      "cell_type": "code",
      "execution_count": null,
      "metadata": {
        "id": "4i6On1pHDXkp",
        "outputId": "41dece2b-c20b-4e10-ab2a-fa65e0d852c7"
      },
      "outputs": [
        {
          "data": {
            "text/html": [
              "<div>\n",
              "<style scoped>\n",
              "    .dataframe tbody tr th:only-of-type {\n",
              "        vertical-align: middle;\n",
              "    }\n",
              "\n",
              "    .dataframe tbody tr th {\n",
              "        vertical-align: top;\n",
              "    }\n",
              "\n",
              "    .dataframe thead th {\n",
              "        text-align: right;\n",
              "    }\n",
              "</style>\n",
              "<table border=\"1\" class=\"dataframe\">\n",
              "  <thead>\n",
              "    <tr style=\"text-align: right;\">\n",
              "      <th></th>\n",
              "      <th>country</th>\n",
              "      <th>timestamp</th>\n",
              "      <th>group</th>\n",
              "      <th>landing_page</th>\n",
              "      <th>converted</th>\n",
              "      <th>intercept</th>\n",
              "      <th>ab_page</th>\n",
              "    </tr>\n",
              "    <tr>\n",
              "      <th>user_id</th>\n",
              "      <th></th>\n",
              "      <th></th>\n",
              "      <th></th>\n",
              "      <th></th>\n",
              "      <th></th>\n",
              "      <th></th>\n",
              "      <th></th>\n",
              "    </tr>\n",
              "  </thead>\n",
              "  <tbody>\n",
              "    <tr>\n",
              "      <th>834778</th>\n",
              "      <td>UK</td>\n",
              "      <td>2017-01-14 23:08:43.304998</td>\n",
              "      <td>control</td>\n",
              "      <td>old_page</td>\n",
              "      <td>0</td>\n",
              "      <td>1</td>\n",
              "      <td>0</td>\n",
              "    </tr>\n",
              "    <tr>\n",
              "      <th>928468</th>\n",
              "      <td>US</td>\n",
              "      <td>2017-01-23 14:44:16.387854</td>\n",
              "      <td>treatment</td>\n",
              "      <td>new_page</td>\n",
              "      <td>0</td>\n",
              "      <td>1</td>\n",
              "      <td>1</td>\n",
              "    </tr>\n",
              "    <tr>\n",
              "      <th>822059</th>\n",
              "      <td>UK</td>\n",
              "      <td>2017-01-16 14:04:14.719771</td>\n",
              "      <td>treatment</td>\n",
              "      <td>new_page</td>\n",
              "      <td>1</td>\n",
              "      <td>1</td>\n",
              "      <td>1</td>\n",
              "    </tr>\n",
              "    <tr>\n",
              "      <th>711597</th>\n",
              "      <td>UK</td>\n",
              "      <td>2017-01-22 03:14:24.763511</td>\n",
              "      <td>control</td>\n",
              "      <td>old_page</td>\n",
              "      <td>0</td>\n",
              "      <td>1</td>\n",
              "      <td>0</td>\n",
              "    </tr>\n",
              "    <tr>\n",
              "      <th>710616</th>\n",
              "      <td>UK</td>\n",
              "      <td>2017-01-16 13:14:44.000513</td>\n",
              "      <td>treatment</td>\n",
              "      <td>new_page</td>\n",
              "      <td>0</td>\n",
              "      <td>1</td>\n",
              "      <td>1</td>\n",
              "    </tr>\n",
              "  </tbody>\n",
              "</table>\n",
              "</div>"
            ],
            "text/plain": [
              "        country                   timestamp      group landing_page  \\\n",
              "user_id                                                               \n",
              "834778       UK  2017-01-14 23:08:43.304998    control     old_page   \n",
              "928468       US  2017-01-23 14:44:16.387854  treatment     new_page   \n",
              "822059       UK  2017-01-16 14:04:14.719771  treatment     new_page   \n",
              "711597       UK  2017-01-22 03:14:24.763511    control     old_page   \n",
              "710616       UK  2017-01-16 13:14:44.000513  treatment     new_page   \n",
              "\n",
              "         converted  intercept  ab_page  \n",
              "user_id                                 \n",
              "834778           0          1        0  \n",
              "928468           0          1        1  \n",
              "822059           1          1        1  \n",
              "711597           0          1        0  \n",
              "710616           0          1        1  "
            ]
          },
          "execution_count": 40,
          "metadata": {},
          "output_type": "execute_result"
        }
      ],
      "source": [
        "# Join with the df2 dataframe\n",
        "df_merged = df_countries.set_index('user_id').join(df2.set_index('user_id'), how='inner')\n",
        "df_merged.head()"
      ]
    },
    {
      "cell_type": "code",
      "execution_count": null,
      "metadata": {
        "id": "nkdYX3EhDXkq",
        "outputId": "0e4bf541-ed5c-42d2-dab9-39f12422045e"
      },
      "outputs": [
        {
          "data": {
            "text/html": [
              "<div>\n",
              "<style scoped>\n",
              "    .dataframe tbody tr th:only-of-type {\n",
              "        vertical-align: middle;\n",
              "    }\n",
              "\n",
              "    .dataframe tbody tr th {\n",
              "        vertical-align: top;\n",
              "    }\n",
              "\n",
              "    .dataframe thead th {\n",
              "        text-align: right;\n",
              "    }\n",
              "</style>\n",
              "<table border=\"1\" class=\"dataframe\">\n",
              "  <thead>\n",
              "    <tr style=\"text-align: right;\">\n",
              "      <th></th>\n",
              "      <th>country</th>\n",
              "      <th>timestamp</th>\n",
              "      <th>group</th>\n",
              "      <th>landing_page</th>\n",
              "      <th>converted</th>\n",
              "      <th>intercept</th>\n",
              "      <th>ab_page</th>\n",
              "      <th>UK</th>\n",
              "      <th>US</th>\n",
              "      <th>CA</th>\n",
              "    </tr>\n",
              "    <tr>\n",
              "      <th>user_id</th>\n",
              "      <th></th>\n",
              "      <th></th>\n",
              "      <th></th>\n",
              "      <th></th>\n",
              "      <th></th>\n",
              "      <th></th>\n",
              "      <th></th>\n",
              "      <th></th>\n",
              "      <th></th>\n",
              "      <th></th>\n",
              "    </tr>\n",
              "  </thead>\n",
              "  <tbody>\n",
              "    <tr>\n",
              "      <th>834778</th>\n",
              "      <td>UK</td>\n",
              "      <td>2017-01-14 23:08:43.304998</td>\n",
              "      <td>control</td>\n",
              "      <td>old_page</td>\n",
              "      <td>0</td>\n",
              "      <td>1</td>\n",
              "      <td>0</td>\n",
              "      <td>0</td>\n",
              "      <td>1</td>\n",
              "      <td>0</td>\n",
              "    </tr>\n",
              "    <tr>\n",
              "      <th>928468</th>\n",
              "      <td>US</td>\n",
              "      <td>2017-01-23 14:44:16.387854</td>\n",
              "      <td>treatment</td>\n",
              "      <td>new_page</td>\n",
              "      <td>0</td>\n",
              "      <td>1</td>\n",
              "      <td>1</td>\n",
              "      <td>0</td>\n",
              "      <td>0</td>\n",
              "      <td>1</td>\n",
              "    </tr>\n",
              "    <tr>\n",
              "      <th>822059</th>\n",
              "      <td>UK</td>\n",
              "      <td>2017-01-16 14:04:14.719771</td>\n",
              "      <td>treatment</td>\n",
              "      <td>new_page</td>\n",
              "      <td>1</td>\n",
              "      <td>1</td>\n",
              "      <td>1</td>\n",
              "      <td>0</td>\n",
              "      <td>1</td>\n",
              "      <td>0</td>\n",
              "    </tr>\n",
              "    <tr>\n",
              "      <th>711597</th>\n",
              "      <td>UK</td>\n",
              "      <td>2017-01-22 03:14:24.763511</td>\n",
              "      <td>control</td>\n",
              "      <td>old_page</td>\n",
              "      <td>0</td>\n",
              "      <td>1</td>\n",
              "      <td>0</td>\n",
              "      <td>0</td>\n",
              "      <td>1</td>\n",
              "      <td>0</td>\n",
              "    </tr>\n",
              "    <tr>\n",
              "      <th>710616</th>\n",
              "      <td>UK</td>\n",
              "      <td>2017-01-16 13:14:44.000513</td>\n",
              "      <td>treatment</td>\n",
              "      <td>new_page</td>\n",
              "      <td>0</td>\n",
              "      <td>1</td>\n",
              "      <td>1</td>\n",
              "      <td>0</td>\n",
              "      <td>1</td>\n",
              "      <td>0</td>\n",
              "    </tr>\n",
              "  </tbody>\n",
              "</table>\n",
              "</div>"
            ],
            "text/plain": [
              "        country                   timestamp      group landing_page  \\\n",
              "user_id                                                               \n",
              "834778       UK  2017-01-14 23:08:43.304998    control     old_page   \n",
              "928468       US  2017-01-23 14:44:16.387854  treatment     new_page   \n",
              "822059       UK  2017-01-16 14:04:14.719771  treatment     new_page   \n",
              "711597       UK  2017-01-22 03:14:24.763511    control     old_page   \n",
              "710616       UK  2017-01-16 13:14:44.000513  treatment     new_page   \n",
              "\n",
              "         converted  intercept  ab_page  UK  US  CA  \n",
              "user_id                                             \n",
              "834778           0          1        0   0   1   0  \n",
              "928468           0          1        1   0   0   1  \n",
              "822059           1          1        1   0   1   0  \n",
              "711597           0          1        0   0   1   0  \n",
              "710616           0          1        1   0   1   0  "
            ]
          },
          "execution_count": 41,
          "metadata": {},
          "output_type": "execute_result"
        }
      ],
      "source": [
        "# Create the necessary dummy variables\n",
        "df_merged[[\"UK\", \"US\", \"CA\"]] = pd.get_dummies(df_merged[\"country\"])\n",
        "df_merged.head()"
      ]
    },
    {
      "cell_type": "markdown",
      "metadata": {
        "id": "v_UY1Ib1DXkr"
      },
      "source": [
        "**h. Fit your model and obtain the results**<br> \n",
        "Though you have now looked at the individual factors of country and page on conversion, we would now like to look at an interaction between page and country to see if are there significant effects on conversion.  **Create the necessary additional columns, and fit the new model.** \n",
        "\n",
        "\n",
        "Provide the summary results (statistical output), and your conclusions (written response) based on the results. \n",
        "\n",
        ">**Tip**: Conclusions should include both statistical reasoning, and practical reasoning for the situation. \n",
        "\n",
        ">**Hints**: \n",
        "- Look at all of p-values in the summary, and compare against the Type I error rate (0.05). \n",
        "- Can you reject/fail to reject the null hypotheses (regression model)?\n",
        "- Comment on the effect of page and country to predict the conversion.\n"
      ]
    },
    {
      "cell_type": "code",
      "execution_count": null,
      "metadata": {
        "id": "mmWbuXxYDXku"
      },
      "outputs": [],
      "source": [
        "# interaction between page and country (Higher order terms)\n",
        "df_merged[\"UK_new\"] = df_merged[\"UK\"] * df_merged[\"ab_page\"]\n",
        "df_merged[\"US_new\"] = df_merged[\"US\"] * df_merged[\"ab_page\"]"
      ]
    },
    {
      "cell_type": "code",
      "execution_count": null,
      "metadata": {
        "id": "5iYdyY4_DXkv",
        "outputId": "e6539755-c3e3-40bb-fc09-a18af4b51b3f"
      },
      "outputs": [
        {
          "name": "stdout",
          "output_type": "stream",
          "text": [
            "Optimization terminated successfully.\n",
            "         Current function value: 0.366109\n",
            "         Iterations 6\n"
          ]
        },
        {
          "data": {
            "text/html": [
              "<table class=\"simpletable\">\n",
              "<tr>\n",
              "        <td>Model:</td>              <td>Logit</td>      <td>Pseudo R-squared:</td>    <td>0.000</td>   \n",
              "</tr>\n",
              "<tr>\n",
              "  <td>Dependent Variable:</td>     <td>converted</td>          <td>AIC:</td>        <td>212782.6602</td>\n",
              "</tr>\n",
              "<tr>\n",
              "         <td>Date:</td>        <td>2021-11-20 02:19</td>       <td>BIC:</td>        <td>212846.1381</td>\n",
              "</tr>\n",
              "<tr>\n",
              "   <td>No. Observations:</td>       <td>290584</td>       <td>Log-Likelihood:</td>  <td>-1.0639e+05</td>\n",
              "</tr>\n",
              "<tr>\n",
              "       <td>Df Model:</td>              <td>5</td>            <td>LL-Null:</td>      <td>-1.0639e+05</td>\n",
              "</tr>\n",
              "<tr>\n",
              "     <td>Df Residuals:</td>         <td>290578</td>        <td>LLR p-value:</td>      <td>0.19199</td>  \n",
              "</tr>\n",
              "<tr>\n",
              "      <td>Converged:</td>           <td>1.0000</td>           <td>Scale:</td>         <td>1.0000</td>   \n",
              "</tr>\n",
              "<tr>\n",
              "    <td>No. Iterations:</td>        <td>6.0000</td>              <td></td>               <td></td>      \n",
              "</tr>\n",
              "</table>\n",
              "<table class=\"simpletable\">\n",
              "<tr>\n",
              "      <td></td>       <th>Coef.</th>  <th>Std.Err.</th>     <th>z</th>      <th>P>|z|</th> <th>[0.025</th>  <th>0.975]</th> \n",
              "</tr>\n",
              "<tr>\n",
              "  <th>intercept</th> <td>-1.9865</td>  <td>0.0096</td>  <td>-206.3440</td> <td>0.0000</td> <td>-2.0053</td> <td>-1.9676</td>\n",
              "</tr>\n",
              "<tr>\n",
              "  <th>ab_page</th>   <td>-0.0206</td>  <td>0.0137</td>   <td>-1.5052</td>  <td>0.1323</td> <td>-0.0473</td> <td>0.0062</td> \n",
              "</tr>\n",
              "<tr>\n",
              "  <th>UK</th>        <td>-0.0175</td>  <td>0.0377</td>   <td>-0.4652</td>  <td>0.6418</td> <td>-0.0914</td> <td>0.0563</td> \n",
              "</tr>\n",
              "<tr>\n",
              "  <th>US</th>        <td>-0.0057</td>  <td>0.0188</td>   <td>-0.3057</td>  <td>0.7598</td> <td>-0.0426</td> <td>0.0311</td> \n",
              "</tr>\n",
              "<tr>\n",
              "  <th>UK_new</th>    <td>-0.0469</td>  <td>0.0538</td>   <td>-0.8718</td>  <td>0.3833</td> <td>-0.1523</td> <td>0.0585</td> \n",
              "</tr>\n",
              "<tr>\n",
              "  <th>US_new</th>    <td>0.0314</td>   <td>0.0266</td>   <td>1.1807</td>   <td>0.2377</td> <td>-0.0207</td> <td>0.0835</td> \n",
              "</tr>\n",
              "</table>"
            ],
            "text/plain": [
              "<class 'statsmodels.iolib.summary2.Summary'>\n",
              "\"\"\"\n",
              "                          Results: Logit\n",
              "==================================================================\n",
              "Model:              Logit            Pseudo R-squared: 0.000      \n",
              "Dependent Variable: converted        AIC:              212782.6602\n",
              "Date:               2021-11-20 02:19 BIC:              212846.1381\n",
              "No. Observations:   290584           Log-Likelihood:   -1.0639e+05\n",
              "Df Model:           5                LL-Null:          -1.0639e+05\n",
              "Df Residuals:       290578           LLR p-value:      0.19199    \n",
              "Converged:          1.0000           Scale:            1.0000     \n",
              "No. Iterations:     6.0000                                        \n",
              "-------------------------------------------------------------------\n",
              "              Coef.   Std.Err.      z      P>|z|    [0.025   0.975]\n",
              "-------------------------------------------------------------------\n",
              "intercept    -1.9865    0.0096  -206.3440  0.0000  -2.0053  -1.9676\n",
              "ab_page      -0.0206    0.0137    -1.5052  0.1323  -0.0473   0.0062\n",
              "UK           -0.0175    0.0377    -0.4652  0.6418  -0.0914   0.0563\n",
              "US           -0.0057    0.0188    -0.3057  0.7598  -0.0426   0.0311\n",
              "UK_new       -0.0469    0.0538    -0.8718  0.3833  -0.1523   0.0585\n",
              "US_new        0.0314    0.0266     1.1807  0.2377  -0.0207   0.0835\n",
              "==================================================================\n",
              "\n",
              "\"\"\""
            ]
          },
          "execution_count": 43,
          "metadata": {},
          "output_type": "execute_result"
        }
      ],
      "source": [
        "# Fit your model, and summarize the results\n",
        "df_merged[\"intercept\"] = 1\n",
        "mod1 = sm.Logit(df_merged[\"converted\"], df_merged[[\"intercept\", \"ab_page\", \"UK\", \"US\",\"UK_new\", \"US_new\"]])\n",
        "res = mod1.fit()\n",
        "res.summary2()"
      ]
    },
    {
      "attachments": {},
      "cell_type": "markdown",
      "metadata": {
        "id": "sJjZGHbaDXkx"
      },
      "source": [
        ">**From the model above we can say that countries has no significant effect on the conversion as their p-values are above 0.05**\n",
        "\n",
        ">**We reject the null hypothesis as there is no enough evidence to accept it, or in another words there is no enough evidence that the new page is leading to more conversions**"
      ]
    },
    {
      "cell_type": "markdown",
      "metadata": {
        "id": "QEfxS4arDXky"
      },
      "source": [
        "<a id='finalcheck'></a>\n",
        "## Final Check!\n",
        "\n",
        "Congratulations!  You have reached the end of the A/B Test Results project!  You should be very proud of all you have accomplished!\n",
        "\n",
        "> **Tip**: Once you are satisfied with your work here, check over your notebook to make sure that it satisfies all the specifications mentioned in the rubric. You should also probably remove all of the \"Hints\" and \"Tips\" like this one so that the presentation is as polished as possible.\n",
        "\n",
        "\n",
        "<a id='submission'></a>\n",
        "## Submission\n",
        "You may either submit your notebook through the \"SUBMIT PROJECT\" button at the bottom of this workspace, or you may work from your local machine and submit on  the last page of this project lesson.  \n",
        "\n",
        "1. Before you submit your project, you need to create a .html or .pdf version of this notebook in the workspace here. To do that, run the code cell below. If it worked correctly, you should get a return code of 0, and you should see the generated .html file in the workspace directory (click on the orange Jupyter icon in the upper left).\n",
        "\n",
        "\n",
        "2. Alternatively, you can download this report as .html via the **File** > **Download as** submenu, and then manually upload it into the workspace directory by clicking on the orange Jupyter icon in the upper left, then using the Upload button.\n",
        "\n",
        "\n",
        "3. Once you've done this, you can submit your project by clicking on the \"Submit Project\" button in the lower right here. This will create and submit a zip file with this .ipynb doc and the .html or .pdf version you created. Congratulations!"
      ]
    },
    {
      "cell_type": "code",
      "execution_count": null,
      "metadata": {
        "id": "Do9CwidqDXkz",
        "outputId": "c44400a1-de5a-4415-d1b5-f9c9d35aba82"
      },
      "outputs": [
        {
          "data": {
            "text/plain": [
              "1"
            ]
          },
          "execution_count": 44,
          "metadata": {},
          "output_type": "execute_result"
        }
      ],
      "source": [
        "from subprocess import call\n",
        "call([\"python\", \"-m\", \"nbconvert\", \"Analyze_ab_test_results_notebook.ipynb\"])"
      ]
    }
  ],
  "metadata": {
    "colab": {
      "provenance": []
    },
    "kernelspec": {
      "display_name": "Python 3 (ipykernel)",
      "language": "python",
      "name": "python3"
    },
    "language_info": {
      "codemirror_mode": {
        "name": "ipython",
        "version": 3
      },
      "file_extension": ".py",
      "mimetype": "text/x-python",
      "name": "python",
      "nbconvert_exporter": "python",
      "pygments_lexer": "ipython3",
      "version": "3.9.7"
    }
  },
  "nbformat": 4,
  "nbformat_minor": 0
}
